{
 "cells": [
  {
   "cell_type": "code",
   "execution_count": 2,
   "id": "be7d48d7",
   "metadata": {},
   "outputs": [
    {
     "data": {
      "text/plain": [
       "array([1, 2, 3, 4, 5, 6])"
      ]
     },
     "execution_count": 2,
     "metadata": {},
     "output_type": "execute_result"
    }
   ],
   "source": [
    "import numpy as np\n",
    "l = [1,2,3,4,5,6]\n",
    "np.array(l)"
   ]
  },
  {
   "cell_type": "code",
   "execution_count": 27,
   "id": "78c8949e",
   "metadata": {},
   "outputs": [
    {
     "data": {
      "text/plain": [
       "array(['4', '5', '6', '7', 'ravi', '35.55', 'True'], dtype='<U32')"
      ]
     },
     "execution_count": 27,
     "metadata": {},
     "output_type": "execute_result"
    }
   ],
   "source": [
    "l1 = [4,5,6,7,\"ravi\", 35.55, True]\n",
    "a1=np.array(l1)\n",
    "a1"
   ]
  },
  {
   "cell_type": "code",
   "execution_count": 25,
   "id": "0ffc93d6",
   "metadata": {},
   "outputs": [
    {
     "data": {
      "text/plain": [
       "array([[1, 2, 3],\n",
       "       [4, 5, 6]])"
      ]
     },
     "execution_count": 25,
     "metadata": {},
     "output_type": "execute_result"
    }
   ],
   "source": [
    "a2 = np.array([[1,2,3,],[4,5,6]])\n",
    "a2"
   ]
  },
  {
   "cell_type": "code",
   "execution_count": 12,
   "id": "6b10fd8f",
   "metadata": {},
   "outputs": [
    {
     "data": {
      "text/plain": [
       "2"
      ]
     },
     "execution_count": 12,
     "metadata": {},
     "output_type": "execute_result"
    }
   ],
   "source": [
    "a[0][1]"
   ]
  },
  {
   "cell_type": "code",
   "execution_count": 15,
   "id": "46f86575",
   "metadata": {},
   "outputs": [
    {
     "data": {
      "text/plain": [
       "array([[[1, 2, 3],\n",
       "        [4, 5, 6],\n",
       "        [7, 8, 9]]])"
      ]
     },
     "execution_count": 15,
     "metadata": {},
     "output_type": "execute_result"
    }
   ],
   "source": [
    "b= np.array([[[1,2,3,],[4,5,6],[7,8,9]]])\n",
    "b"
   ]
  },
  {
   "cell_type": "code",
   "execution_count": 17,
   "id": "7fc6a598",
   "metadata": {},
   "outputs": [
    {
     "data": {
      "text/plain": [
       "array([4, 5, 6])"
      ]
     },
     "execution_count": 17,
     "metadata": {},
     "output_type": "execute_result"
    }
   ],
   "source": [
    "b[0][1]"
   ]
  },
  {
   "cell_type": "code",
   "execution_count": 20,
   "id": "c89c4dd8",
   "metadata": {},
   "outputs": [
    {
     "data": {
      "text/plain": [
       "3"
      ]
     },
     "execution_count": 20,
     "metadata": {},
     "output_type": "execute_result"
    }
   ],
   "source": [
    "b.ndim #shows the dimension of array"
   ]
  },
  {
   "cell_type": "code",
   "execution_count": 22,
   "id": "c982e351",
   "metadata": {},
   "outputs": [
    {
     "data": {
      "text/plain": [
       "9"
      ]
     },
     "execution_count": 22,
     "metadata": {},
     "output_type": "execute_result"
    }
   ],
   "source": [
    "b.size #it gives total number of Elements"
   ]
  },
  {
   "cell_type": "code",
   "execution_count": 31,
   "id": "990f08b4",
   "metadata": {},
   "outputs": [
    {
     "data": {
      "text/plain": [
       "(7,)"
      ]
     },
     "execution_count": 31,
     "metadata": {},
     "output_type": "execute_result"
    }
   ],
   "source": [
    "a1.shape #one row data"
   ]
  },
  {
   "cell_type": "code",
   "execution_count": 29,
   "id": "d74f92a2",
   "metadata": {},
   "outputs": [
    {
     "data": {
      "text/plain": [
       "(2, 3)"
      ]
     },
     "execution_count": 29,
     "metadata": {},
     "output_type": "execute_result"
    }
   ],
   "source": [
    "a2.shape #two rows and 3 columns"
   ]
  },
  {
   "cell_type": "code",
   "execution_count": 30,
   "id": "471ed4c8",
   "metadata": {},
   "outputs": [
    {
     "data": {
      "text/plain": [
       "(1, 3, 3)"
      ]
     },
     "execution_count": 30,
     "metadata": {},
     "output_type": "execute_result"
    }
   ],
   "source": [
    "b.shape  # 1 matrices which has Three rows and Three columns"
   ]
  },
  {
   "cell_type": "code",
   "execution_count": 38,
   "id": "f07084c4",
   "metadata": {},
   "outputs": [
    {
     "data": {
      "text/plain": [
       "array([ 5, 15,  5, 28, 20])"
      ]
     },
     "execution_count": 38,
     "metadata": {},
     "output_type": "execute_result"
    }
   ],
   "source": [
    "a3= np.random.randint(1,40,5) # it will generate 5 element between 1 and 40\n",
    "a3"
   ]
  },
  {
   "cell_type": "code",
   "execution_count": 39,
   "id": "c59db3a8",
   "metadata": {},
   "outputs": [
    {
     "data": {
      "text/plain": [
       "1"
      ]
     },
     "execution_count": 39,
     "metadata": {},
     "output_type": "execute_result"
    }
   ],
   "source": [
    "a3.ndim"
   ]
  },
  {
   "cell_type": "code",
   "execution_count": 41,
   "id": "cc31b8c0",
   "metadata": {},
   "outputs": [
    {
     "data": {
      "text/plain": [
       "5"
      ]
     },
     "execution_count": 41,
     "metadata": {},
     "output_type": "execute_result"
    }
   ],
   "source": [
    "a3.size #count of element"
   ]
  },
  {
   "cell_type": "code",
   "execution_count": 42,
   "id": "d2d4807c",
   "metadata": {},
   "outputs": [
    {
     "data": {
      "text/plain": [
       "(5,)"
      ]
     },
     "execution_count": 42,
     "metadata": {},
     "output_type": "execute_result"
    }
   ],
   "source": [
    "a3.shape"
   ]
  },
  {
   "cell_type": "code",
   "execution_count": 46,
   "id": "7056e442",
   "metadata": {},
   "outputs": [
    {
     "data": {
      "text/plain": [
       "array([[[12,  5, 30,  6],\n",
       "        [ 6, 35, 21,  8],\n",
       "        [24,  8,  1, 17]],\n",
       "\n",
       "       [[17, 27, 17, 33],\n",
       "        [23, 35, 12,  4],\n",
       "        [26, 29,  5,  8]],\n",
       "\n",
       "       [[ 5, 17, 21,  9],\n",
       "        [37, 29, 10,  6],\n",
       "        [30, 23, 30,  4]],\n",
       "\n",
       "       [[28, 10, 19, 13],\n",
       "        [17, 24,  1,  9],\n",
       "        [10, 35,  8,  2]],\n",
       "\n",
       "       [[32, 17, 38, 36],\n",
       "        [33, 12, 18, 22],\n",
       "        [37, 38,  8,  1]]])"
      ]
     },
     "execution_count": 46,
     "metadata": {},
     "output_type": "execute_result"
    }
   ],
   "source": [
    "a4= np.random.randint(1,40,(5,3,4)) # it will generate 3*4 matrix  5 times with element values between 1 and 40\n",
    "a4"
   ]
  },
  {
   "cell_type": "code",
   "execution_count": 49,
   "id": "af9d7d3c",
   "metadata": {},
   "outputs": [
    {
     "data": {
      "text/plain": [
       "array([[-0.15875852,  0.04598456, -1.34914654,  1.05231943,  0.62619795],\n",
       "       [ 0.60029216, -0.82483586, -1.12291817,  0.78933194, -1.59201896],\n",
       "       [-0.62039862,  0.07060296,  1.36123925,  0.97940353,  0.20424369],\n",
       "       [-1.05706928,  0.94783634,  0.06276953,  1.64508679, -0.51330256]])"
      ]
     },
     "execution_count": 49,
     "metadata": {},
     "output_type": "execute_result"
    }
   ],
   "source": [
    "a5= np.random.randn(4,5)\n",
    "a5"
   ]
  },
  {
   "cell_type": "code",
   "execution_count": 54,
   "id": "cf5a47d6",
   "metadata": {},
   "outputs": [
    {
     "data": {
      "text/plain": [
       "array([[-0.15875852,  0.04598456, -1.34914654,  1.05231943],\n",
       "       [ 0.62619795,  0.60029216, -0.82483586, -1.12291817],\n",
       "       [ 0.78933194, -1.59201896, -0.62039862,  0.07060296],\n",
       "       [ 1.36123925,  0.97940353,  0.20424369, -1.05706928],\n",
       "       [ 0.94783634,  0.06276953,  1.64508679, -0.51330256]])"
      ]
     },
     "execution_count": 54,
     "metadata": {},
     "output_type": "execute_result"
    }
   ],
   "source": [
    "a5.resize(5,4) # it will change 4 *5  matrix into 5*4  matrix\n",
    "a5"
   ]
  },
  {
   "cell_type": "code",
   "execution_count": 55,
   "id": "09a19edd",
   "metadata": {},
   "outputs": [
    {
     "data": {
      "text/plain": [
       "array([[-0.15875852,  0.04598456, -1.34914654,  1.05231943],\n",
       "       [ 0.62619795,  0.60029216, -0.82483586, -1.12291817],\n",
       "       [ 0.78933194, -1.59201896, -0.62039862,  0.07060296],\n",
       "       [ 1.36123925,  0.97940353,  0.20424369, -1.05706928],\n",
       "       [ 0.94783634,  0.06276953,  1.64508679, -0.51330256]])"
      ]
     },
     "execution_count": 55,
     "metadata": {},
     "output_type": "execute_result"
    }
   ],
   "source": [
    "a5.reshape(5,4) # it will change 4 *5  matrix into 5*4  matrix"
   ]
  },
  {
   "cell_type": "code",
   "execution_count": 57,
   "id": "9dc6c6b6",
   "metadata": {},
   "outputs": [
    {
     "data": {
      "text/plain": [
       "array([[-0.37431503,  0.08143088, -0.11101795,  1.1074167 ],\n",
       "       [ 2.16442375, -0.40638988, -1.33553341, -0.31147538],\n",
       "       [ 0.9876719 ,  0.608294  ,  0.43404881, -1.5305096 ],\n",
       "       [-1.65542064, -0.24416621,  0.430117  ,  0.18042619]])"
      ]
     },
     "execution_count": 57,
     "metadata": {},
     "output_type": "execute_result"
    }
   ],
   "source": [
    "a6= np.random.randn(4,4) #it generate 4*4 array\n",
    "a6"
   ]
  },
  {
   "cell_type": "code",
   "execution_count": 70,
   "id": "451c0429",
   "metadata": {},
   "outputs": [
    {
     "data": {
      "text/plain": [
       "array([[-0.37431503,  0.08143088, -0.11101795,  1.1074167 ,  2.16442375,\n",
       "        -0.40638988, -1.33553341, -0.31147538],\n",
       "       [ 0.9876719 ,  0.608294  ,  0.43404881, -1.5305096 , -1.65542064,\n",
       "        -0.24416621,  0.430117  ,  0.18042619]])"
      ]
     },
     "execution_count": 70,
     "metadata": {},
     "output_type": "execute_result"
    }
   ],
   "source": [
    "a6.reshape(2,8) #it will reshape 4 *4 array into 2 * 8 array"
   ]
  },
  {
   "cell_type": "code",
   "execution_count": 73,
   "id": "631ccf1c",
   "metadata": {},
   "outputs": [
    {
     "data": {
      "text/plain": [
       "array([[-0.37431503,  0.08143088, -0.11101795,  1.1074167 ,  2.16442375,\n",
       "        -0.40638988, -1.33553341, -0.31147538],\n",
       "       [ 0.9876719 ,  0.608294  ,  0.43404881, -1.5305096 , -1.65542064,\n",
       "        -0.24416621,  0.430117  ,  0.18042619]])"
      ]
     },
     "execution_count": 73,
     "metadata": {},
     "output_type": "execute_result"
    }
   ],
   "source": [
    "a6.reshape(2,-1111111) # we can give any negative number and it will pick dimension automatically"
   ]
  },
  {
   "cell_type": "code",
   "execution_count": 72,
   "id": "3ed78b2e",
   "metadata": {},
   "outputs": [
    {
     "data": {
      "text/plain": [
       "array([[[-0.37431503,  0.08143088, -0.11101795,  1.1074167 ],\n",
       "        [ 2.16442375, -0.40638988, -1.33553341, -0.31147538]],\n",
       "\n",
       "       [[ 0.9876719 ,  0.608294  ,  0.43404881, -1.5305096 ],\n",
       "        [-1.65542064, -0.24416621,  0.430117  ,  0.18042619]]])"
      ]
     },
     "execution_count": 72,
     "metadata": {},
     "output_type": "execute_result"
    }
   ],
   "source": [
    "a6.reshape(2,2,4) # it will reshape 2 dimension array 4 *4 into 3 dimension array of 2 * 4 with 2such instances"
   ]
  },
  {
   "cell_type": "code",
   "execution_count": 65,
   "id": "d1c4443a",
   "metadata": {},
   "outputs": [
    {
     "data": {
      "text/plain": [
       "array([[[-0.37431503,  0.08143088]],\n",
       "\n",
       "       [[-0.11101795,  1.1074167 ]],\n",
       "\n",
       "       [[ 2.16442375, -0.40638988]],\n",
       "\n",
       "       [[-1.33553341, -0.31147538]],\n",
       "\n",
       "       [[ 0.9876719 ,  0.608294  ]],\n",
       "\n",
       "       [[ 0.43404881, -1.5305096 ]],\n",
       "\n",
       "       [[-1.65542064, -0.24416621]],\n",
       "\n",
       "       [[ 0.430117  ,  0.18042619]]])"
      ]
     },
     "execution_count": 65,
     "metadata": {},
     "output_type": "execute_result"
    }
   ],
   "source": [
    "a6.reshape(8,1,2) # it will reshape 2 dimension array 4 *4 into 3 dimension array of 1 * 2 with 8 such instances"
   ]
  },
  {
   "cell_type": "code",
   "execution_count": 77,
   "id": "3fff7835",
   "metadata": {},
   "outputs": [
    {
     "data": {
      "text/plain": [
       "array([[-0.37431503,  0.08143088, -0.11101795,  1.1074167 ],\n",
       "       [ 2.16442375, -0.40638988, -1.33553341, -0.31147538],\n",
       "       [ 0.9876719 ,  0.608294  ,  0.43404881, -1.5305096 ],\n",
       "       [-1.65542064, -0.24416621,  0.430117  ,  0.18042619]])"
      ]
     },
     "execution_count": 77,
     "metadata": {},
     "output_type": "execute_result"
    }
   ],
   "source": [
    "a6"
   ]
  },
  {
   "cell_type": "code",
   "execution_count": 74,
   "id": "917c3bb2",
   "metadata": {},
   "outputs": [
    {
     "data": {
      "text/plain": [
       "array([-0.37431503,  0.08143088, -0.11101795,  1.1074167 ])"
      ]
     },
     "execution_count": 74,
     "metadata": {},
     "output_type": "execute_result"
    }
   ],
   "source": [
    "a6[0]"
   ]
  },
  {
   "cell_type": "code",
   "execution_count": 76,
   "id": "0f8037ff",
   "metadata": {},
   "outputs": [
    {
     "data": {
      "text/plain": [
       "array([ 2.16442375, -0.40638988, -1.33553341, -0.31147538])"
      ]
     },
     "execution_count": 76,
     "metadata": {},
     "output_type": "execute_result"
    }
   ],
   "source": [
    "a6[1]"
   ]
  },
  {
   "cell_type": "code",
   "execution_count": 78,
   "id": "5e7e3d45",
   "metadata": {},
   "outputs": [
    {
     "data": {
      "text/plain": [
       "-1.3355334112772947"
      ]
     },
     "execution_count": 78,
     "metadata": {},
     "output_type": "execute_result"
    }
   ],
   "source": [
    "a6[1][2]"
   ]
  },
  {
   "cell_type": "code",
   "execution_count": 82,
   "id": "a848238e",
   "metadata": {},
   "outputs": [
    {
     "data": {
      "text/plain": [
       "array([ 2.16442375, -0.40638988, -1.33553341])"
      ]
     },
     "execution_count": 82,
     "metadata": {},
     "output_type": "execute_result"
    }
   ],
   "source": [
    "a6[1][:3:1]"
   ]
  },
  {
   "cell_type": "code",
   "execution_count": 84,
   "id": "39aa2055",
   "metadata": {},
   "outputs": [
    {
     "data": {
      "text/plain": [
       "array([[-1.65542064, -0.24416621,  0.430117  ,  0.18042619],\n",
       "       [ 0.9876719 ,  0.608294  ,  0.43404881, -1.5305096 ],\n",
       "       [ 2.16442375, -0.40638988, -1.33553341, -0.31147538],\n",
       "       [-0.37431503,  0.08143088, -0.11101795,  1.1074167 ]])"
      ]
     },
     "execution_count": 84,
     "metadata": {},
     "output_type": "execute_result"
    }
   ],
   "source": [
    "a6[::-1] #reversing array completely"
   ]
  },
  {
   "cell_type": "code",
   "execution_count": 91,
   "id": "85ca6f14",
   "metadata": {},
   "outputs": [
    {
     "data": {
      "text/plain": [
       "array([[-0.37431503,  0.08143088, -0.11101795,  1.1074167 ],\n",
       "       [ 2.16442375, -0.40638988, -1.33553341, -0.31147538],\n",
       "       [ 0.9876719 ,  0.608294  ,  0.43404881, -1.5305096 ],\n",
       "       [-1.65542064, -0.24416621,  0.430117  ,  0.18042619]])"
      ]
     },
     "execution_count": 91,
     "metadata": {},
     "output_type": "execute_result"
    }
   ],
   "source": [
    "a6"
   ]
  },
  {
   "cell_type": "code",
   "execution_count": 99,
   "id": "cade5349",
   "metadata": {},
   "outputs": [
    {
     "data": {
      "text/plain": [
       "(4, 4)"
      ]
     },
     "execution_count": 99,
     "metadata": {},
     "output_type": "execute_result"
    }
   ],
   "source": [
    "a6.shape"
   ]
  },
  {
   "cell_type": "code",
   "execution_count": 100,
   "id": "7ca553a6",
   "metadata": {},
   "outputs": [
    {
     "data": {
      "text/plain": [
       "array([[ 0.08143088, -0.11101795],\n",
       "       [-0.40638988, -1.33553341],\n",
       "       [ 0.608294  ,  0.43404881],\n",
       "       [-0.24416621,  0.430117  ]])"
      ]
     },
     "execution_count": 100,
     "metadata": {},
     "output_type": "execute_result"
    }
   ],
   "source": [
    "a6[:,[1,2]]"
   ]
  },
  {
   "cell_type": "code",
   "execution_count": 101,
   "id": "adc3d37f",
   "metadata": {},
   "outputs": [
    {
     "data": {
      "text/plain": [
       "array([[17, 30,  1,  4],\n",
       "       [15, 37,  3, 36],\n",
       "       [18, 17, 29,  8],\n",
       "       [39, 39, 20, 11],\n",
       "       [15, 30, 30, 29]])"
      ]
     },
     "execution_count": 101,
     "metadata": {},
     "output_type": "execute_result"
    }
   ],
   "source": [
    "a7= np.random.randint(1,40,(5,4)) # it will generate 5*4 matrix with element values between 1 and 40\n",
    "a7"
   ]
  },
  {
   "cell_type": "code",
   "execution_count": 103,
   "id": "503a994d",
   "metadata": {},
   "outputs": [
    {
     "data": {
      "text/plain": [
       "array([30, 37, 36, 29, 39, 39, 30, 30, 29])"
      ]
     },
     "execution_count": 103,
     "metadata": {},
     "output_type": "execute_result"
    }
   ],
   "source": [
    "a7[a7>20] #extract list of all elements with value > 20"
   ]
  },
  {
   "cell_type": "code",
   "execution_count": 107,
   "id": "24096fb1",
   "metadata": {},
   "outputs": [
    {
     "data": {
      "text/plain": [
       "array([[ 17, 120,   1,   4],\n",
       "       [ 15,  37,   3,  36],\n",
       "       [ 18,  17,  29,   8],\n",
       "       [ 39,  39,  20,  11],\n",
       "       [ 15,  30,  30,  29]])"
      ]
     },
     "execution_count": 107,
     "metadata": {},
     "output_type": "execute_result"
    }
   ],
   "source": [
    "a7[0][1] = 120 #changing value of elements at 0th row and 1 column  from 30 to 120\n",
    "a7"
   ]
  },
  {
   "cell_type": "code",
   "execution_count": 110,
   "id": "6e8422c3",
   "metadata": {},
   "outputs": [
    {
     "data": {
      "text/plain": [
       "array([120])"
      ]
     },
     "execution_count": 110,
     "metadata": {},
     "output_type": "execute_result"
    }
   ],
   "source": [
    "a7[a7>=120] #extract list of all elements with value >= 120"
   ]
  },
  {
   "cell_type": "code",
   "execution_count": 112,
   "id": "499387b9",
   "metadata": {},
   "outputs": [
    {
     "data": {
      "text/plain": [
       "array([[0, 0],\n",
       "       [0, 0],\n",
       "       [2, 0]])"
      ]
     },
     "execution_count": 112,
     "metadata": {},
     "output_type": "execute_result"
    }
   ],
   "source": [
    "a8 = np.random.randint(0,3,(3,2))\n",
    "a8"
   ]
  },
  {
   "cell_type": "code",
   "execution_count": 113,
   "id": "e511d101",
   "metadata": {},
   "outputs": [
    {
     "data": {
      "text/plain": [
       "array([[2, 0],\n",
       "       [0, 2],\n",
       "       [2, 0]])"
      ]
     },
     "execution_count": 113,
     "metadata": {},
     "output_type": "execute_result"
    }
   ],
   "source": [
    "a9 = np.random.randint(0,3,(3,2))\n",
    "a9"
   ]
  },
  {
   "cell_type": "code",
   "execution_count": 115,
   "id": "6219f61a",
   "metadata": {},
   "outputs": [
    {
     "data": {
      "text/plain": [
       "array([[0, 0],\n",
       "       [0, 0],\n",
       "       [4, 0]])"
      ]
     },
     "execution_count": 115,
     "metadata": {},
     "output_type": "execute_result"
    }
   ],
   "source": [
    "a8* a9 # we are multiplying values between  a8 and a9 element by element based on its position"
   ]
  },
  {
   "cell_type": "code",
   "execution_count": 116,
   "id": "d2948643",
   "metadata": {},
   "outputs": [
    {
     "data": {
      "text/plain": [
       "array([[0, 2],\n",
       "       [2, 1],\n",
       "       [2, 2]])"
      ]
     },
     "execution_count": 116,
     "metadata": {},
     "output_type": "execute_result"
    }
   ],
   "source": [
    "a10 = np.random.randint(0,3,(3,2))\n",
    "a10"
   ]
  },
  {
   "cell_type": "code",
   "execution_count": 117,
   "id": "1e7e87dd",
   "metadata": {},
   "outputs": [
    {
     "data": {
      "text/plain": [
       "array([[2, 1, 0],\n",
       "       [0, 2, 1]])"
      ]
     },
     "execution_count": 117,
     "metadata": {},
     "output_type": "execute_result"
    }
   ],
   "source": [
    "a11 = np.random.randint(0,3,(2,3))\n",
    "a11"
   ]
  },
  {
   "cell_type": "code",
   "execution_count": 122,
   "id": "57e5c75f",
   "metadata": {},
   "outputs": [
    {
     "data": {
      "text/plain": [
       "array([[0, 4, 2],\n",
       "       [4, 4, 1],\n",
       "       [4, 6, 2]])"
      ]
     },
     "execution_count": 122,
     "metadata": {},
     "output_type": "execute_result"
    }
   ],
   "source": [
    "a12 = a10 @ a11 # @ symbol gives matrix multiplication\n",
    "a12"
   ]
  },
  {
   "cell_type": "code",
   "execution_count": 123,
   "id": "4c732909",
   "metadata": {},
   "outputs": [
    {
     "data": {
      "text/plain": [
       "array([[0. , 2. , 1. ],\n",
       "       [2. , 2. , 0.5],\n",
       "       [2. , 3. , 1. ]])"
      ]
     },
     "execution_count": 123,
     "metadata": {},
     "output_type": "execute_result"
    }
   ],
   "source": [
    "a12/2"
   ]
  },
  {
   "cell_type": "code",
   "execution_count": 127,
   "id": "dbd3ae0b",
   "metadata": {},
   "outputs": [
    {
     "data": {
      "text/plain": [
       "array([0., 0.])"
      ]
     },
     "execution_count": 127,
     "metadata": {},
     "output_type": "execute_result"
    }
   ],
   "source": [
    "np.zeros((2)) #it will create 1 dimension array with all element value of 0"
   ]
  },
  {
   "cell_type": "code",
   "execution_count": 128,
   "id": "eb73bfff",
   "metadata": {},
   "outputs": [
    {
     "data": {
      "text/plain": [
       "array([[0., 0., 0., 0., 0.],\n",
       "       [0., 0., 0., 0., 0.],\n",
       "       [0., 0., 0., 0., 0.]])"
      ]
     },
     "execution_count": 128,
     "metadata": {},
     "output_type": "execute_result"
    }
   ],
   "source": [
    "np.zeros((3,5))  #it will create 4*4 dimension array with all element value of 0"
   ]
  },
  {
   "cell_type": "code",
   "execution_count": 131,
   "id": "4426118c",
   "metadata": {},
   "outputs": [
    {
     "data": {
      "text/plain": [
       "array([[1., 1., 1., 1., 1., 1., 1., 1., 1.],\n",
       "       [1., 1., 1., 1., 1., 1., 1., 1., 1.],\n",
       "       [1., 1., 1., 1., 1., 1., 1., 1., 1.],\n",
       "       [1., 1., 1., 1., 1., 1., 1., 1., 1.]])"
      ]
     },
     "execution_count": 131,
     "metadata": {},
     "output_type": "execute_result"
    }
   ],
   "source": [
    "a13= np.ones((4,9)) #it will create 4*9 dimension array with all element value as 1\n",
    "a13"
   ]
  },
  {
   "cell_type": "code",
   "execution_count": 134,
   "id": "98425d14",
   "metadata": {},
   "outputs": [
    {
     "data": {
      "text/plain": [
       "array([[ 2.,  3.,  4.,  5.,  6.,  7.,  8.,  9., 10.],\n",
       "       [ 2.,  3.,  4.,  5.,  6.,  7.,  8.,  9., 10.],\n",
       "       [ 2.,  3.,  4.,  5.,  6.,  7.,  8.,  9., 10.],\n",
       "       [ 2.,  3.,  4.,  5.,  6.,  7.,  8.,  9., 10.]])"
      ]
     },
     "execution_count": 134,
     "metadata": {},
     "output_type": "execute_result"
    }
   ],
   "source": [
    "a13 + np.array([1,2,3,4,5,6,7,8,9]) # all rows of 4*9 dimension array is added with value given in second array"
   ]
  },
  {
   "cell_type": "code",
   "execution_count": 141,
   "id": "af31b5f6",
   "metadata": {},
   "outputs": [
    {
     "data": {
      "text/plain": [
       "array([[1],\n",
       "       [2],\n",
       "       [3],\n",
       "       [4]])"
      ]
     },
     "execution_count": 141,
     "metadata": {},
     "output_type": "execute_result"
    }
   ],
   "source": [
    "a14= np.array([[1,2,3,4]]).T  # it will transpose the 1*4 matrix to 4*1\n",
    "a14"
   ]
  },
  {
   "cell_type": "code",
   "execution_count": 144,
   "id": "e721c30e",
   "metadata": {},
   "outputs": [
    {
     "data": {
      "text/plain": [
       "array([[1],\n",
       "       [2],\n",
       "       [3],\n",
       "       [4]])"
      ]
     },
     "execution_count": 144,
     "metadata": {},
     "output_type": "execute_result"
    }
   ],
   "source": [
    "a14.resize(4,1)\n",
    "a14"
   ]
  },
  {
   "cell_type": "code",
   "execution_count": 140,
   "id": "38d38f94",
   "metadata": {},
   "outputs": [
    {
     "data": {
      "text/plain": [
       "array([[2., 2., 2., 2., 2., 2., 2., 2., 2.],\n",
       "       [3., 3., 3., 3., 3., 3., 3., 3., 3.],\n",
       "       [4., 4., 4., 4., 4., 4., 4., 4., 4.],\n",
       "       [5., 5., 5., 5., 5., 5., 5., 5., 5.]])"
      ]
     },
     "execution_count": 140,
     "metadata": {},
     "output_type": "execute_result"
    }
   ],
   "source": [
    "a13+ a14"
   ]
  },
  {
   "cell_type": "code",
   "execution_count": 148,
   "id": "b6b05e06",
   "metadata": {},
   "outputs": [
    {
     "data": {
      "text/plain": [
       "[0, 2, 4]"
      ]
     },
     "execution_count": 148,
     "metadata": {},
     "output_type": "execute_result"
    }
   ],
   "source": [
    "list(range(0,5,2))"
   ]
  },
  {
   "cell_type": "code",
   "execution_count": 154,
   "id": "96c2a33e",
   "metadata": {},
   "outputs": [
    {
     "data": {
      "text/plain": [
       "array([1, 4, 7])"
      ]
     },
     "execution_count": 154,
     "metadata": {},
     "output_type": "execute_result"
    }
   ],
   "source": [
    "np.arange(1,10,3) #in numpy we have arange as compared to arange"
   ]
  },
  {
   "cell_type": "code",
   "execution_count": 153,
   "id": "6f29226f",
   "metadata": {},
   "outputs": [
    {
     "data": {
      "text/plain": [
       "array([1. , 4.5, 8. ])"
      ]
     },
     "execution_count": 153,
     "metadata": {},
     "output_type": "execute_result"
    }
   ],
   "source": [
    "np.arange(1,10,3.5)"
   ]
  },
  {
   "cell_type": "code",
   "execution_count": 157,
   "id": "6a76fa4a",
   "metadata": {},
   "outputs": [
    {
     "data": {
      "text/plain": [
       "array([2.        , 2.04081633, 2.08163265, 2.12244898, 2.16326531,\n",
       "       2.20408163, 2.24489796, 2.28571429, 2.32653061, 2.36734694,\n",
       "       2.40816327, 2.44897959, 2.48979592, 2.53061224, 2.57142857,\n",
       "       2.6122449 , 2.65306122, 2.69387755, 2.73469388, 2.7755102 ,\n",
       "       2.81632653, 2.85714286, 2.89795918, 2.93877551, 2.97959184,\n",
       "       3.02040816, 3.06122449, 3.10204082, 3.14285714, 3.18367347,\n",
       "       3.2244898 , 3.26530612, 3.30612245, 3.34693878, 3.3877551 ,\n",
       "       3.42857143, 3.46938776, 3.51020408, 3.55102041, 3.59183673,\n",
       "       3.63265306, 3.67346939, 3.71428571, 3.75510204, 3.79591837,\n",
       "       3.83673469, 3.87755102, 3.91836735, 3.95918367, 4.        ])"
      ]
     },
     "execution_count": 157,
     "metadata": {},
     "output_type": "execute_result"
    }
   ],
   "source": [
    "np.linspace(2,4,50) # it will generate 50 numbers in equal segments between 2 and 4"
   ]
  },
  {
   "cell_type": "code",
   "execution_count": 158,
   "id": "aaa6e874",
   "metadata": {},
   "outputs": [
    {
     "data": {
      "text/plain": [
       "array([  100.        ,   464.15888336,  2154.43469003, 10000.        ])"
      ]
     },
     "execution_count": 158,
     "metadata": {},
     "output_type": "execute_result"
    }
   ],
   "source": [
    "np.logspace(2,4,num=4,base=10)"
   ]
  },
  {
   "cell_type": "code",
   "execution_count": 162,
   "id": "4d0694f6",
   "metadata": {},
   "outputs": [
    {
     "data": {
      "text/plain": [
       "array([[1., 0., 0., 0., 0., 0., 0., 0., 0., 0.],\n",
       "       [0., 1., 0., 0., 0., 0., 0., 0., 0., 0.],\n",
       "       [0., 0., 1., 0., 0., 0., 0., 0., 0., 0.],\n",
       "       [0., 0., 0., 1., 0., 0., 0., 0., 0., 0.],\n",
       "       [0., 0., 0., 0., 1., 0., 0., 0., 0., 0.],\n",
       "       [0., 0., 0., 0., 0., 1., 0., 0., 0., 0.],\n",
       "       [0., 0., 0., 0., 0., 0., 1., 0., 0., 0.],\n",
       "       [0., 0., 0., 0., 0., 0., 0., 1., 0., 0.],\n",
       "       [0., 0., 0., 0., 0., 0., 0., 0., 1., 0.],\n",
       "       [0., 0., 0., 0., 0., 0., 0., 0., 0., 1.]])"
      ]
     },
     "execution_count": 162,
     "metadata": {},
     "output_type": "execute_result"
    }
   ],
   "source": [
    "np.eye(10) # Identity matrix of 10 *10 with diagonal value as 1"
   ]
  }
 ],
 "metadata": {
  "kernelspec": {
   "display_name": "Python 3 (ipykernel)",
   "language": "python",
   "name": "python3"
  },
  "language_info": {
   "codemirror_mode": {
    "name": "ipython",
    "version": 3
   },
   "file_extension": ".py",
   "mimetype": "text/x-python",
   "name": "python",
   "nbconvert_exporter": "python",
   "pygments_lexer": "ipython3",
   "version": "3.9.7"
  }
 },
 "nbformat": 4,
 "nbformat_minor": 5
}
