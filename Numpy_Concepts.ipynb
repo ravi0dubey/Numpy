{
 "cells": [
  {
   "cell_type": "code",
   "execution_count": 1,
   "id": "c22eee29",
   "metadata": {},
   "outputs": [],
   "source": [
    "import numpy as np"
   ]
  },
  {
   "cell_type": "code",
   "execution_count": 58,
   "id": "41b01187",
   "metadata": {},
   "outputs": [
    {
     "data": {
      "text/plain": [
       "array([1, 2, 3, 4, 5])"
      ]
     },
     "execution_count": 58,
     "metadata": {},
     "output_type": "execute_result"
    }
   ],
   "source": [
    "#creating a 1 dimensional array using Numpy\n",
    "\n",
    "np1 = np.array([1,2,3,4,5])\n",
    "np1"
   ]
  },
  {
   "cell_type": "code",
   "execution_count": 5,
   "id": "f2a98ab9",
   "metadata": {},
   "outputs": [
    {
     "data": {
      "text/plain": [
       "numpy.ndarray"
      ]
     },
     "execution_count": 5,
     "metadata": {},
     "output_type": "execute_result"
    }
   ],
   "source": [
    "type(np.array([1,2,3,4,5])) #type is n dimensional array"
   ]
  },
  {
   "cell_type": "code",
   "execution_count": 10,
   "id": "8c6f6261",
   "metadata": {},
   "outputs": [
    {
     "data": {
      "text/plain": [
       "array([1., 2., 3., 4.])"
      ]
     },
     "execution_count": 10,
     "metadata": {},
     "output_type": "execute_result"
    }
   ],
   "source": [
    "np.array([1,2,3.0,4]) # since we have one floating point number, it has converted all data into floating point format"
   ]
  },
  {
   "cell_type": "code",
   "execution_count": 11,
   "id": "57307e8c",
   "metadata": {},
   "outputs": [
    {
     "data": {
      "text/plain": [
       "array(['1', '2', '3', 'ravi', '3.0', '4'], dtype='<U32')"
      ]
     },
     "execution_count": 11,
     "metadata": {},
     "output_type": "execute_result"
    }
   ],
   "source": [
    "np.array([1,2,3,\"ravi\",3.0,4]) # since we have one string data, it has converted all data into string format"
   ]
  },
  {
   "cell_type": "code",
   "execution_count": 36,
   "id": "8f0fcff3",
   "metadata": {},
   "outputs": [
    {
     "data": {
      "text/plain": [
       "array([[ 1,  2,  3],\n",
       "       [ 4,  5,  6],\n",
       "       [ 7,  8,  9],\n",
       "       [10, 11, 12]])"
      ]
     },
     "execution_count": 36,
     "metadata": {},
     "output_type": "execute_result"
    }
   ],
   "source": [
    "#creating a 2 dimensional array using Numpy\n",
    "\n",
    "np2 =np.array([[1,2,3],[4,5,6],[7,8,9],[10,11,12]])\n",
    "np2"
   ]
  },
  {
   "cell_type": "code",
   "execution_count": 71,
   "id": "9cb30dc0",
   "metadata": {},
   "outputs": [
    {
     "data": {
      "text/plain": [
       "8"
      ]
     },
     "execution_count": 71,
     "metadata": {},
     "output_type": "execute_result"
    }
   ],
   "source": [
    "#fetching single element of 2dimensional Array\n",
    "#first block will try to fetch element from the 2nd index row  that is 3rd row\n",
    "#second block will try to fetch from 1st index column, ie 2nd column\n",
    "\n",
    "np2[2][1]"
   ]
  },
  {
   "cell_type": "code",
   "execution_count": 60,
   "id": "c73f5e2b",
   "metadata": {},
   "outputs": [
    {
     "name": "stderr",
     "output_type": "stream",
     "text": [
      "C:\\Users\\Ravi0dubey\\AppData\\Local\\Temp/ipykernel_25888/642223828.py:3: VisibleDeprecationWarning: Creating an ndarray from ragged nested sequences (which is a list-or-tuple of lists-or-tuples-or ndarrays with different lengths or shapes) is deprecated. If you meant to do this, you must specify 'dtype=object' when creating the ndarray.\n",
      "  np2_1 =np.array([[1,2],[3,4,5,6],[7,8,9,10,11],[12]])\n"
     ]
    },
    {
     "data": {
      "text/plain": [
       "array([list([1, 2]), list([3, 4, 5, 6]), list([7, 8, 9, 10, 11]),\n",
       "       list([12])], dtype=object)"
      ]
     },
     "execution_count": 60,
     "metadata": {},
     "output_type": "execute_result"
    }
   ],
   "source": [
    "#we can create a 2-Dimension array with  elements in haphazard columnar fashion\n",
    "\n",
    "np2_1 =np.array([[1,2],[3,4,5,6],[7,8,9,10,11],[12]])\n",
    "np2_1"
   ]
  },
  {
   "cell_type": "code",
   "execution_count": 61,
   "id": "872126ba",
   "metadata": {},
   "outputs": [
    {
     "data": {
      "text/plain": [
       "6"
      ]
     },
     "execution_count": 61,
     "metadata": {},
     "output_type": "execute_result"
    }
   ],
   "source": [
    "#It will fetch element from 1st index row and 3rd index column\n",
    "np2_1[1][3]"
   ]
  },
  {
   "cell_type": "code",
   "execution_count": 69,
   "id": "3f7b989a",
   "metadata": {},
   "outputs": [
    {
     "data": {
      "text/plain": [
       "array([[[ 1,  2,  3],\n",
       "        [ 4,  5,  6]],\n",
       "\n",
       "       [[ 7,  8,  9],\n",
       "        [10, 11, 12]],\n",
       "\n",
       "       [[13, 14, 15],\n",
       "        [16, 17, 18]]])"
      ]
     },
     "execution_count": 69,
     "metadata": {},
     "output_type": "execute_result"
    }
   ],
   "source": [
    "#we can create a 3 dimensional array \n",
    "\n",
    "np3 =np.array([[[1,2,3],[4,5,6]],[[7,8,9],[10,11,12]],[[13,14,15],[16,17,18]]])\n",
    "np3"
   ]
  },
  {
   "cell_type": "code",
   "execution_count": 73,
   "id": "9bd9240f",
   "metadata": {},
   "outputs": [
    {
     "data": {
      "text/plain": [
       "9"
      ]
     },
     "execution_count": 73,
     "metadata": {},
     "output_type": "execute_result"
    }
   ],
   "source": [
    "#fetching single element of 3-D Array\n",
    "\n",
    "#first block will try to fetch element from the 2nd array from the array list\n",
    "#Second block will try to fetch element from the 1st index row  that is 2nd row\n",
    "#Third block will try to fetch from 2nd index column, ie 3rd column\n",
    "\n",
    "np3[1][0][2]"
   ]
  },
  {
   "cell_type": "code",
   "execution_count": 85,
   "id": "19065707",
   "metadata": {},
   "outputs": [
    {
     "data": {
      "text/plain": [
       "array([[[   1,    2,    3],\n",
       "        [   4,    5,    6]],\n",
       "\n",
       "       [[   7,    8,    9],\n",
       "        [  10,   11,   12]],\n",
       "\n",
       "       [[  13,   14,   15],\n",
       "        [  16,   17,   18]],\n",
       "\n",
       "       [[ 111,  222,  333],\n",
       "        [ 444,  555,  666]],\n",
       "\n",
       "       [[ 777,  888,  999],\n",
       "        [1010, 1111, 1212]],\n",
       "\n",
       "       [[1313, 1414, 1515],\n",
       "        [1616, 1717, 1818]]])"
      ]
     },
     "execution_count": 85,
     "metadata": {},
     "output_type": "execute_result"
    }
   ],
   "source": [
    "#Creaing a 3-D Array\n",
    "\n",
    "\n",
    "np3_1 =np.array([[[1,2,3],[4,5,6]],[[7,8,9],[10,11,12]],[[13,14,15],[16,17,18]],[[111,222,333],[444,555,666]],[[777,888,999],[1010,1111,1212]],[[1313,1414,1515],[1616,1717,1818]]])\n",
    "np3_1"
   ]
  },
  {
   "cell_type": "code",
   "execution_count": 84,
   "id": "dd18e8a7",
   "metadata": {},
   "outputs": [
    {
     "data": {
      "text/plain": [
       "333"
      ]
     },
     "execution_count": 84,
     "metadata": {},
     "output_type": "execute_result"
    }
   ],
   "source": [
    "#fetching single element of 3-D Array\n",
    "\n",
    "#first block will try to fetch element from the 4th array from the array list\n",
    "#Second block will try to fetch element from the 1st index row  that is 2nd row\n",
    "#Third block will try to fetch from 2nd index column, ie 3rd column\n",
    "\n",
    "np3_1[3][0][2]"
   ]
  },
  {
   "cell_type": "code",
   "execution_count": 161,
   "id": "b5040e64",
   "metadata": {},
   "outputs": [
    {
     "data": {
      "text/plain": [
       "numpy.int32"
      ]
     },
     "execution_count": 161,
     "metadata": {},
     "output_type": "execute_result"
    }
   ],
   "source": [
    "#default data type of integer element in an array is int32\n",
    "\n",
    "type(np3_1[3][0][2])"
   ]
  },
  {
   "cell_type": "code",
   "execution_count": 91,
   "id": "319efe13",
   "metadata": {},
   "outputs": [
    {
     "data": {
      "text/plain": [
       "array([[[[   1,    2,    3],\n",
       "         [   4,    5,    6]],\n",
       "\n",
       "        [[   7,    8,    9],\n",
       "         [  10,   11,   12]]],\n",
       "\n",
       "\n",
       "       [[[ 111,  222,  333],\n",
       "         [ 444,  555,  666]],\n",
       "\n",
       "        [[ 777,  888,  999],\n",
       "         [1010, 1111, 1212]]]])"
      ]
     },
     "execution_count": 91,
     "metadata": {},
     "output_type": "execute_result"
    }
   ],
   "source": [
    "#creating a 4 dimensional array using Numpy\n",
    "\n",
    "np2 =np.array([[[[1,2,3],[4,5,6]],[[7,8,9],[10,11,12]]],[[[111,222,333],[444,555,666]],[[777,888,999],[1010,1111,1212]]]])\n",
    "np2"
   ]
  },
  {
   "cell_type": "code",
   "execution_count": 105,
   "id": "b5ff9472",
   "metadata": {},
   "outputs": [
    {
     "data": {
      "text/plain": [
       "333"
      ]
     },
     "execution_count": 105,
     "metadata": {},
     "output_type": "execute_result"
    }
   ],
   "source": [
    "#fetching single element of 4-D Array\n",
    "\n",
    "#First block will try to fetch 2nd, 3-d array from the array list\n",
    "#Second block will try to fetch element from the 2nd 3-d array from the array list\n",
    "#Third block will try to fetch element from the 0th index row  that is 1st row\n",
    "#Fourth block will try to fetch from 2nd index column, ie 3rd column\n",
    "\n",
    "np2[1][0][0][2]"
   ]
  },
  {
   "cell_type": "code",
   "execution_count": 112,
   "id": "ea0423fa",
   "metadata": {},
   "outputs": [
    {
     "data": {
      "text/plain": [
       "array([1, 2, 3])"
      ]
     },
     "execution_count": 112,
     "metadata": {},
     "output_type": "execute_result"
    }
   ],
   "source": [
    "#we can create 1st, 2nd , 3rd, 4th dimensional array using below syntax\n",
    "\n",
    "npd1 = np.array([1,2,3], ndmin = 1)\n",
    "npd1"
   ]
  },
  {
   "cell_type": "code",
   "execution_count": 113,
   "id": "a93953b1",
   "metadata": {},
   "outputs": [
    {
     "data": {
      "text/plain": [
       "array([[1, 2, 3]])"
      ]
     },
     "execution_count": 113,
     "metadata": {},
     "output_type": "execute_result"
    }
   ],
   "source": [
    "npd2 = np.array([1,2,3], ndmin = 2)\n",
    "npd2"
   ]
  },
  {
   "cell_type": "code",
   "execution_count": 114,
   "id": "8ef1eb91",
   "metadata": {},
   "outputs": [
    {
     "data": {
      "text/plain": [
       "array([[[1, 2, 3]]])"
      ]
     },
     "execution_count": 114,
     "metadata": {},
     "output_type": "execute_result"
    }
   ],
   "source": [
    "npd3 = np.array([1,2,3], ndmin = 3)\n",
    "npd3"
   ]
  },
  {
   "cell_type": "code",
   "execution_count": 120,
   "id": "4a7e12fb",
   "metadata": {},
   "outputs": [
    {
     "data": {
      "text/plain": [
       "array([[[[1, 2, 3]]]])"
      ]
     },
     "execution_count": 120,
     "metadata": {},
     "output_type": "execute_result"
    }
   ],
   "source": [
    "npd4 = np.array([1,2,3], ndmin = 4)\n",
    "npd4"
   ]
  },
  {
   "cell_type": "code",
   "execution_count": 124,
   "id": "0ebd24e0",
   "metadata": {},
   "outputs": [
    {
     "data": {
      "text/plain": [
       "3"
      ]
     },
     "execution_count": 124,
     "metadata": {},
     "output_type": "execute_result"
    }
   ],
   "source": [
    "npd4[0][0][0][2]"
   ]
  },
  {
   "cell_type": "code",
   "execution_count": 126,
   "id": "7a01651b",
   "metadata": {},
   "outputs": [
    {
     "data": {
      "text/plain": [
       "array([[1.+0.j, 2.+0.j, 3.+0.j]])"
      ]
     },
     "execution_count": 126,
     "metadata": {},
     "output_type": "execute_result"
    }
   ],
   "source": [
    "#we can create 2nd dimensional array of data type complex using below syntax\n",
    "\n",
    "npd2_2j = np.array([1,2,3], ndmin = 2, dtype = complex)\n",
    "npd2_2j"
   ]
  },
  {
   "cell_type": "code",
   "execution_count": 148,
   "id": "4e9ed842",
   "metadata": {},
   "outputs": [
    {
     "data": {
      "text/plain": [
       "array([(1, 2), (4, 5)], dtype=[('a', '<i2'), ('b', '<i4')])"
      ]
     },
     "execution_count": 148,
     "metadata": {},
     "output_type": "execute_result"
    }
   ],
   "source": [
    "#data is stored in form of tuples\n",
    "# first element of the tuple will be of type int16, second element is of type int32\n",
    "\n",
    "np2_2t = np.array([(1,2),(4,5)],dtype = [(\"a\",'<i2'),(\"b\",'<i4')])\n",
    "np2_2t"
   ]
  },
  {
   "cell_type": "code",
   "execution_count": 154,
   "id": "2ef3874e",
   "metadata": {},
   "outputs": [
    {
     "data": {
      "text/plain": [
       "1"
      ]
     },
     "execution_count": 154,
     "metadata": {},
     "output_type": "execute_result"
    }
   ],
   "source": [
    "np2_2t[0][0]"
   ]
  },
  {
   "cell_type": "code",
   "execution_count": 149,
   "id": "9a951e63",
   "metadata": {},
   "outputs": [
    {
     "data": {
      "text/plain": [
       "numpy.int16"
      ]
     },
     "execution_count": 149,
     "metadata": {},
     "output_type": "execute_result"
    }
   ],
   "source": [
    "type(np2_2t[0][0])"
   ]
  },
  {
   "cell_type": "code",
   "execution_count": 155,
   "id": "2e312173",
   "metadata": {},
   "outputs": [
    {
     "data": {
      "text/plain": [
       "2"
      ]
     },
     "execution_count": 155,
     "metadata": {},
     "output_type": "execute_result"
    }
   ],
   "source": [
    "np2_2t[0][1]"
   ]
  },
  {
   "cell_type": "code",
   "execution_count": 150,
   "id": "a0e38b5c",
   "metadata": {},
   "outputs": [
    {
     "data": {
      "text/plain": [
       "numpy.int32"
      ]
     },
     "execution_count": 150,
     "metadata": {},
     "output_type": "execute_result"
    }
   ],
   "source": [
    "type(np2_2t[0][1])"
   ]
  },
  {
   "cell_type": "code",
   "execution_count": 153,
   "id": "5d2f57cd",
   "metadata": {},
   "outputs": [
    {
     "data": {
      "text/plain": [
       "array([[(1, 1), (2, 2)],\n",
       "       [(4, 4), (5, 5)]], dtype=[('a', '<i2'), ('b', '<i4')])"
      ]
     },
     "execution_count": 153,
     "metadata": {},
     "output_type": "execute_result"
    }
   ],
   "source": [
    "#even if we store element in form of list, it will be stored as tuples internally\n",
    "\n",
    "np2_2t1 = np.array([[1,2],[4,5]],dtype = [(\"a\",'<i2'),(\"b\",'<i4')])\n",
    "np2_2t1"
   ]
  },
  {
   "cell_type": "code",
   "execution_count": 152,
   "id": "37e9c955",
   "metadata": {},
   "outputs": [
    {
     "data": {
      "text/plain": [
       "2"
      ]
     },
     "execution_count": 152,
     "metadata": {},
     "output_type": "execute_result"
    }
   ],
   "source": [
    "np2_2t1[0][1][1]"
   ]
  },
  {
   "cell_type": "code",
   "execution_count": 159,
   "id": "891ee2a6",
   "metadata": {},
   "outputs": [
    {
     "data": {
      "text/plain": [
       "numpy.int32"
      ]
     },
     "execution_count": 159,
     "metadata": {},
     "output_type": "execute_result"
    }
   ],
   "source": [
    "type(np2_2t1[0][0][1])"
   ]
  },
  {
   "cell_type": "code",
   "execution_count": 165,
   "id": "d51a8716",
   "metadata": {},
   "outputs": [
    {
     "data": {
      "text/plain": [
       "array([[1, 2, 3],\n",
       "       [4, 5, 6]])"
      ]
     },
     "execution_count": 165,
     "metadata": {},
     "output_type": "execute_result"
    }
   ],
   "source": [
    "#creating a 2 dimensional array\n",
    "\n",
    "npa1 = np.array([[1,2,3],[4,5,6]])\n",
    "npa1"
   ]
  },
  {
   "cell_type": "code",
   "execution_count": 184,
   "id": "03e10db9",
   "metadata": {},
   "outputs": [
    {
     "data": {
      "text/plain": [
       "6"
      ]
     },
     "execution_count": 184,
     "metadata": {},
     "output_type": "execute_result"
    }
   ],
   "source": [
    "#accessing data from 1st index row and 2nd index column\n",
    "npa1[1][2]"
   ]
  },
  {
   "cell_type": "markdown",
   "id": "bc7b50cb",
   "metadata": {},
   "source": [
    "# Matrix"
   ]
  },
  {
   "cell_type": "code",
   "execution_count": 185,
   "id": "8751882c",
   "metadata": {},
   "outputs": [
    {
     "data": {
      "text/plain": [
       "matrix([[1, 2, 3],\n",
       "        [4, 5, 6]])"
      ]
     },
     "execution_count": 185,
     "metadata": {},
     "output_type": "execute_result"
    }
   ],
   "source": [
    "#storing same array in a matrix\n",
    "\n",
    "npm1 = np.matrix(npa1)\n",
    "npm1"
   ]
  },
  {
   "cell_type": "code",
   "execution_count": 186,
   "id": "36b7f2f8",
   "metadata": {},
   "outputs": [
    {
     "data": {
      "text/plain": [
       "matrix([[4, 5, 6]])"
      ]
     },
     "execution_count": 186,
     "metadata": {},
     "output_type": "execute_result"
    }
   ],
   "source": [
    "#accessing first index row of matrix\n",
    "\n",
    "npm1[1]"
   ]
  },
  {
   "cell_type": "code",
   "execution_count": 187,
   "id": "0b609b1a",
   "metadata": {},
   "outputs": [
    {
     "ename": "IndexError",
     "evalue": "index 2 is out of bounds for axis 0 with size 1",
     "output_type": "error",
     "traceback": [
      "\u001b[1;31m---------------------------------------------------------------------------\u001b[0m",
      "\u001b[1;31mIndexError\u001b[0m                                Traceback (most recent call last)",
      "\u001b[1;32m~\\AppData\\Local\\Temp/ipykernel_25888/2268253163.py\u001b[0m in \u001b[0;36m<module>\u001b[1;34m\u001b[0m\n\u001b[0;32m      1\u001b[0m \u001b[1;31m#if we try to access element from 1st index row and 2nd index column of matrix we will get an error\u001b[0m\u001b[1;33m\u001b[0m\u001b[1;33m\u001b[0m\u001b[0m\n\u001b[0;32m      2\u001b[0m \u001b[1;33m\u001b[0m\u001b[0m\n\u001b[1;32m----> 3\u001b[1;33m \u001b[0mnpm1\u001b[0m\u001b[1;33m[\u001b[0m\u001b[1;36m1\u001b[0m\u001b[1;33m]\u001b[0m\u001b[1;33m[\u001b[0m\u001b[1;36m2\u001b[0m\u001b[1;33m]\u001b[0m\u001b[1;33m\u001b[0m\u001b[1;33m\u001b[0m\u001b[0m\n\u001b[0m",
      "\u001b[1;32m~\\anaconda3\\lib\\site-packages\\numpy\\matrixlib\\defmatrix.py\u001b[0m in \u001b[0;36m__getitem__\u001b[1;34m(self, index)\u001b[0m\n\u001b[0;32m    191\u001b[0m \u001b[1;33m\u001b[0m\u001b[0m\n\u001b[0;32m    192\u001b[0m         \u001b[1;32mtry\u001b[0m\u001b[1;33m:\u001b[0m\u001b[1;33m\u001b[0m\u001b[1;33m\u001b[0m\u001b[0m\n\u001b[1;32m--> 193\u001b[1;33m             \u001b[0mout\u001b[0m \u001b[1;33m=\u001b[0m \u001b[0mN\u001b[0m\u001b[1;33m.\u001b[0m\u001b[0mndarray\u001b[0m\u001b[1;33m.\u001b[0m\u001b[0m__getitem__\u001b[0m\u001b[1;33m(\u001b[0m\u001b[0mself\u001b[0m\u001b[1;33m,\u001b[0m \u001b[0mindex\u001b[0m\u001b[1;33m)\u001b[0m\u001b[1;33m\u001b[0m\u001b[1;33m\u001b[0m\u001b[0m\n\u001b[0m\u001b[0;32m    194\u001b[0m         \u001b[1;32mfinally\u001b[0m\u001b[1;33m:\u001b[0m\u001b[1;33m\u001b[0m\u001b[1;33m\u001b[0m\u001b[0m\n\u001b[0;32m    195\u001b[0m             \u001b[0mself\u001b[0m\u001b[1;33m.\u001b[0m\u001b[0m_getitem\u001b[0m \u001b[1;33m=\u001b[0m \u001b[1;32mFalse\u001b[0m\u001b[1;33m\u001b[0m\u001b[1;33m\u001b[0m\u001b[0m\n",
      "\u001b[1;31mIndexError\u001b[0m: index 2 is out of bounds for axis 0 with size 1"
     ]
    }
   ],
   "source": [
    "#if we try to access element from 1st index row and 2nd index column of matrix we will get an error\n",
    "\n",
    "npm1[1][2]"
   ]
  },
  {
   "cell_type": "code",
   "execution_count": 236,
   "id": "165409e6",
   "metadata": {},
   "outputs": [
    {
     "data": {
      "text/plain": [
       "True"
      ]
     },
     "execution_count": 236,
     "metadata": {},
     "output_type": "execute_result"
    }
   ],
   "source": [
    "# Matrix is subclass of array\n",
    "\n",
    "issubclass(np.matrix,np.ndarray)"
   ]
  },
  {
   "cell_type": "code",
   "execution_count": 235,
   "id": "5172fa31",
   "metadata": {},
   "outputs": [
    {
     "data": {
      "text/plain": [
       "False"
      ]
     },
     "execution_count": 235,
     "metadata": {},
     "output_type": "execute_result"
    }
   ],
   "source": [
    "# Array is not subclass of Matrix\n",
    "\n",
    "issubclass(np.ndarray,np.matrix)"
   ]
  },
  {
   "cell_type": "markdown",
   "id": "5f47609b",
   "metadata": {},
   "source": [
    "# asarray"
   ]
  },
  {
   "cell_type": "code",
   "execution_count": 202,
   "id": "9844b638",
   "metadata": {},
   "outputs": [
    {
     "data": {
      "text/plain": [
       "array([[1, 2, 3],\n",
       "       [4, 5, 6]])"
      ]
     },
     "execution_count": 202,
     "metadata": {},
     "output_type": "execute_result"
    }
   ],
   "source": [
    "#asarray function will convert any data into array form\n",
    "#storing array npa1 as array using asa\n",
    "\n",
    "npasar1 = np.asarray(npa1)\n",
    "npasar1"
   ]
  },
  {
   "cell_type": "code",
   "execution_count": 193,
   "id": "2e88319f",
   "metadata": {},
   "outputs": [
    {
     "data": {
      "text/plain": [
       "6"
      ]
     },
     "execution_count": 193,
     "metadata": {},
     "output_type": "execute_result"
    }
   ],
   "source": [
    "#fetching values from npasar1 afer its conversion to array\n",
    "\n",
    "npasar1[1][2]"
   ]
  },
  {
   "cell_type": "code",
   "execution_count": 199,
   "id": "2d2554db",
   "metadata": {},
   "outputs": [
    {
     "data": {
      "text/plain": [
       "array([[1, 2, 3],\n",
       "       [4, 5, 6]])"
      ]
     },
     "execution_count": 199,
     "metadata": {},
     "output_type": "execute_result"
    }
   ],
   "source": [
    "#asarray function will convert any data into array form\n",
    "# It converts matrix element into an array format\n",
    "\n",
    "npasar2 = np.asarray(npm1)\n",
    "npasar2"
   ]
  },
  {
   "cell_type": "code",
   "execution_count": 201,
   "id": "ca98c58d",
   "metadata": {},
   "outputs": [
    {
     "data": {
      "text/plain": [
       "6"
      ]
     },
     "execution_count": 201,
     "metadata": {},
     "output_type": "execute_result"
    }
   ],
   "source": [
    "# after conversion of Matrix into array, we will be able to fetch value from previously defined matrix\n",
    "npasar2[1][2]"
   ]
  },
  {
   "cell_type": "code",
   "execution_count": 212,
   "id": "1bf2fb01",
   "metadata": {},
   "outputs": [
    {
     "data": {
      "text/plain": [
       "array([1, 2, 3, 4, 5])"
      ]
     },
     "execution_count": 212,
     "metadata": {},
     "output_type": "execute_result"
    }
   ],
   "source": [
    "#asarray function converts list into array\n",
    "\n",
    "list1 = [1,2,3,4,5]\n",
    "npasar3 =np.asarray(list1)\n",
    "npasar3"
   ]
  },
  {
   "cell_type": "markdown",
   "id": "35a67053",
   "metadata": {},
   "source": [
    "# asanyarray"
   ]
  },
  {
   "cell_type": "code",
   "execution_count": 219,
   "id": "10521d4a",
   "metadata": {},
   "outputs": [
    {
     "data": {
      "text/plain": [
       "array([[1, 2, 3],\n",
       "       [4, 5, 6]])"
      ]
     },
     "execution_count": 219,
     "metadata": {},
     "output_type": "execute_result"
    }
   ],
   "source": [
    "# asanyarray will see data type of element. If element is already available in array or matrix format,\n",
    "# it will keep as it is or will convert the element into array format\n",
    "\n",
    "#storing array npa1 as any array\n",
    "\n",
    "npasanar1 = np.asanyarray(npa1)\n",
    "npasanar1"
   ]
  },
  {
   "cell_type": "code",
   "execution_count": 222,
   "id": "d741c689",
   "metadata": {},
   "outputs": [
    {
     "data": {
      "text/plain": [
       "3"
      ]
     },
     "execution_count": 222,
     "metadata": {},
     "output_type": "execute_result"
    }
   ],
   "source": [
    "npasanar1[0][2]"
   ]
  },
  {
   "cell_type": "code",
   "execution_count": 224,
   "id": "066efe34",
   "metadata": {},
   "outputs": [
    {
     "data": {
      "text/plain": [
       "array([1, 2, 3, 4, 5])"
      ]
     },
     "execution_count": 224,
     "metadata": {},
     "output_type": "execute_result"
    }
   ],
   "source": [
    "# asanyarray will see data type of element. If its not in array or matrix format, it will convert the element\n",
    "#storing list List1 as array using asanyarray function\n",
    "\n",
    "list1 = [1,2,3,4,5]\n",
    "npasanar2 =np.asanyarray(list1)\n",
    "npasanar2"
   ]
  },
  {
   "cell_type": "code",
   "execution_count": 227,
   "id": "64b42c07",
   "metadata": {},
   "outputs": [
    {
     "data": {
      "text/plain": [
       "1"
      ]
     },
     "execution_count": 227,
     "metadata": {},
     "output_type": "execute_result"
    }
   ],
   "source": [
    "npasanar2[0]"
   ]
  },
  {
   "cell_type": "code",
   "execution_count": 230,
   "id": "cd9041c2",
   "metadata": {},
   "outputs": [
    {
     "data": {
      "text/plain": [
       "matrix([[1, 2, 3],\n",
       "        [4, 5, 6]])"
      ]
     },
     "execution_count": 230,
     "metadata": {},
     "output_type": "execute_result"
    }
   ],
   "source": [
    "# asanyarray will see data type of element. If element is already available in array or matrix format,\n",
    "# it will keep as it is or will convert the element into array format\n",
    "\n",
    "#storing array npm1 as any array\n",
    "\n",
    "npasanar3 = np.asanyarray(npm1)\n",
    "npasanar3"
   ]
  },
  {
   "cell_type": "code",
   "execution_count": 231,
   "id": "d6086d41",
   "metadata": {},
   "outputs": [
    {
     "data": {
      "text/plain": [
       "matrix([[4, 5, 6]])"
      ]
     },
     "execution_count": 231,
     "metadata": {},
     "output_type": "execute_result"
    }
   ],
   "source": [
    "npasanar3[1]"
   ]
  },
  {
   "cell_type": "code",
   "execution_count": null,
   "id": "736f5c9f",
   "metadata": {},
   "outputs": [],
   "source": []
  }
 ],
 "metadata": {
  "kernelspec": {
   "display_name": "Python 3 (ipykernel)",
   "language": "python",
   "name": "python3"
  },
  "language_info": {
   "codemirror_mode": {
    "name": "ipython",
    "version": 3
   },
   "file_extension": ".py",
   "mimetype": "text/x-python",
   "name": "python",
   "nbconvert_exporter": "python",
   "pygments_lexer": "ipython3",
   "version": "3.9.7"
  }
 },
 "nbformat": 4,
 "nbformat_minor": 5
}
