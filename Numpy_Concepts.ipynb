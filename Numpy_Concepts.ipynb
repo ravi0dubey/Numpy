{
 "cells": [
  {
   "cell_type": "code",
   "execution_count": 1,
   "id": "c22eee29",
   "metadata": {},
   "outputs": [],
   "source": [
    "import numpy as np"
   ]
  },
  {
   "cell_type": "code",
   "execution_count": 58,
   "id": "41b01187",
   "metadata": {},
   "outputs": [
    {
     "data": {
      "text/plain": [
       "array([1, 2, 3, 4, 5])"
      ]
     },
     "execution_count": 58,
     "metadata": {},
     "output_type": "execute_result"
    }
   ],
   "source": [
    "#creating a 1 dimensional array using Numpy\n",
    "\n",
    "np1 = np.array([1,2,3,4,5])\n",
    "np1"
   ]
  },
  {
   "cell_type": "code",
   "execution_count": 5,
   "id": "f2a98ab9",
   "metadata": {},
   "outputs": [
    {
     "data": {
      "text/plain": [
       "numpy.ndarray"
      ]
     },
     "execution_count": 5,
     "metadata": {},
     "output_type": "execute_result"
    }
   ],
   "source": [
    "type(np.array([1,2,3,4,5])) #type is n dimensional array"
   ]
  },
  {
   "cell_type": "code",
   "execution_count": 10,
   "id": "8c6f6261",
   "metadata": {},
   "outputs": [
    {
     "data": {
      "text/plain": [
       "array([1., 2., 3., 4.])"
      ]
     },
     "execution_count": 10,
     "metadata": {},
     "output_type": "execute_result"
    }
   ],
   "source": [
    "np.array([1,2,3.0,4]) # since we have one floating point number, it has converted all data into floating point format"
   ]
  },
  {
   "cell_type": "code",
   "execution_count": 11,
   "id": "57307e8c",
   "metadata": {},
   "outputs": [
    {
     "data": {
      "text/plain": [
       "array(['1', '2', '3', 'ravi', '3.0', '4'], dtype='<U32')"
      ]
     },
     "execution_count": 11,
     "metadata": {},
     "output_type": "execute_result"
    }
   ],
   "source": [
    "np.array([1,2,3,\"ravi\",3.0,4]) # since we have one string data, it has converted all data into string format"
   ]
  },
  {
   "cell_type": "code",
   "execution_count": 36,
   "id": "8f0fcff3",
   "metadata": {},
   "outputs": [
    {
     "data": {
      "text/plain": [
       "array([[ 1,  2,  3],\n",
       "       [ 4,  5,  6],\n",
       "       [ 7,  8,  9],\n",
       "       [10, 11, 12]])"
      ]
     },
     "execution_count": 36,
     "metadata": {},
     "output_type": "execute_result"
    }
   ],
   "source": [
    "#creating a 2 dimensional array using Numpy\n",
    "\n",
    "np2 =np.array([[1,2,3],[4,5,6],[7,8,9],[10,11,12]])\n",
    "np2"
   ]
  },
  {
   "cell_type": "code",
   "execution_count": 71,
   "id": "9cb30dc0",
   "metadata": {},
   "outputs": [
    {
     "data": {
      "text/plain": [
       "8"
      ]
     },
     "execution_count": 71,
     "metadata": {},
     "output_type": "execute_result"
    }
   ],
   "source": [
    "#fetching single element of 2dimensional Array\n",
    "#first block will try to fetch element from the 2nd index row  that is 3rd row\n",
    "#second block will try to fetch from 1st index column, ie 2nd column\n",
    "\n",
    "np2[2][1]"
   ]
  },
  {
   "cell_type": "code",
   "execution_count": 60,
   "id": "c73f5e2b",
   "metadata": {},
   "outputs": [
    {
     "name": "stderr",
     "output_type": "stream",
     "text": [
      "C:\\Users\\Ravi0dubey\\AppData\\Local\\Temp/ipykernel_25888/642223828.py:3: VisibleDeprecationWarning: Creating an ndarray from ragged nested sequences (which is a list-or-tuple of lists-or-tuples-or ndarrays with different lengths or shapes) is deprecated. If you meant to do this, you must specify 'dtype=object' when creating the ndarray.\n",
      "  np2_1 =np.array([[1,2],[3,4,5,6],[7,8,9,10,11],[12]])\n"
     ]
    },
    {
     "data": {
      "text/plain": [
       "array([list([1, 2]), list([3, 4, 5, 6]), list([7, 8, 9, 10, 11]),\n",
       "       list([12])], dtype=object)"
      ]
     },
     "execution_count": 60,
     "metadata": {},
     "output_type": "execute_result"
    }
   ],
   "source": [
    "#we can create a 2-Dimension array with  elements in haphazard columnar fashion\n",
    "\n",
    "np2_1 =np.array([[1,2],[3,4,5,6],[7,8,9,10,11],[12]])\n",
    "np2_1"
   ]
  },
  {
   "cell_type": "code",
   "execution_count": 61,
   "id": "872126ba",
   "metadata": {},
   "outputs": [
    {
     "data": {
      "text/plain": [
       "6"
      ]
     },
     "execution_count": 61,
     "metadata": {},
     "output_type": "execute_result"
    }
   ],
   "source": [
    "#It will fetch element from 1st index row and 3rd index column\n",
    "np2_1[1][3]"
   ]
  },
  {
   "cell_type": "code",
   "execution_count": 82,
   "id": "3f7b989a",
   "metadata": {},
   "outputs": [
    {
     "data": {
      "text/plain": [
       "array([[[ 1,  2,  3],\n",
       "        [ 4,  5,  6]],\n",
       "\n",
       "       [[ 7,  8,  9],\n",
       "        [10, 11, 12]],\n",
       "\n",
       "       [[13, 14, 15],\n",
       "        [16, 17, 18]]])"
      ]
     },
     "execution_count": 82,
     "metadata": {},
     "output_type": "execute_result"
    }
   ],
   "source": [
    "#we can create a 3 dimensional array \n",
    "\n",
    "np3 =np.array([[[1,2,3],[4,5,6]],[[7,8,9],[10,11,12]],[[13,14,15],[16,17,18]]])\n",
    "np3"
   ]
  },
  {
   "cell_type": "code",
   "execution_count": 86,
   "id": "3368b438",
   "metadata": {},
   "outputs": [
    {
     "data": {
      "text/plain": [
       "3"
      ]
     },
     "execution_count": 86,
     "metadata": {},
     "output_type": "execute_result"
    }
   ],
   "source": [
    "# It will give dimension of array, which is 3 dimension\n",
    "np3.ndim"
   ]
  },
  {
   "cell_type": "code",
   "execution_count": 88,
   "id": "fcf54e18",
   "metadata": {},
   "outputs": [
    {
     "data": {
      "text/plain": [
       "18"
      ]
     },
     "execution_count": 88,
     "metadata": {},
     "output_type": "execute_result"
    }
   ],
   "source": [
    "# It will give size of array, how many elements are there in array\n",
    "\n",
    "np3.size"
   ]
  },
  {
   "cell_type": "code",
   "execution_count": 89,
   "id": "c9e67c8a",
   "metadata": {},
   "outputs": [
    {
     "data": {
      "text/plain": [
       "(3, 2, 3)"
      ]
     },
     "execution_count": 89,
     "metadata": {},
     "output_type": "execute_result"
    }
   ],
   "source": [
    "#it will give shape of array \n",
    "\n",
    "#in below case we have 3 occurrence of 2 rows and 3 columns\n",
    "\n",
    "np3.shape"
   ]
  },
  {
   "cell_type": "code",
   "execution_count": 73,
   "id": "9bd9240f",
   "metadata": {},
   "outputs": [
    {
     "data": {
      "text/plain": [
       "9"
      ]
     },
     "execution_count": 73,
     "metadata": {},
     "output_type": "execute_result"
    }
   ],
   "source": [
    "#fetching single element of 3-D Array\n",
    "\n",
    "#first block will try to fetch element from the 2nd array from the array list\n",
    "#Second block will try to fetch element from the 1st index row  that is 2nd row\n",
    "#Third block will try to fetch from 2nd index column, ie 3rd column\n",
    "\n",
    "np3[1][0][2]"
   ]
  },
  {
   "cell_type": "code",
   "execution_count": 85,
   "id": "19065707",
   "metadata": {},
   "outputs": [
    {
     "data": {
      "text/plain": [
       "array([[[   1,    2,    3],\n",
       "        [   4,    5,    6]],\n",
       "\n",
       "       [[   7,    8,    9],\n",
       "        [  10,   11,   12]],\n",
       "\n",
       "       [[  13,   14,   15],\n",
       "        [  16,   17,   18]],\n",
       "\n",
       "       [[ 111,  222,  333],\n",
       "        [ 444,  555,  666]],\n",
       "\n",
       "       [[ 777,  888,  999],\n",
       "        [1010, 1111, 1212]],\n",
       "\n",
       "       [[1313, 1414, 1515],\n",
       "        [1616, 1717, 1818]]])"
      ]
     },
     "execution_count": 85,
     "metadata": {},
     "output_type": "execute_result"
    }
   ],
   "source": [
    "#Creaing a 3-D Array\n",
    "\n",
    "\n",
    "np3_1 =np.array([[[1,2,3],[4,5,6]],[[7,8,9],[10,11,12]],[[13,14,15],[16,17,18]],[[111,222,333],[444,555,666]],[[777,888,999],[1010,1111,1212]],[[1313,1414,1515],[1616,1717,1818]]])\n",
    "np3_1"
   ]
  },
  {
   "cell_type": "code",
   "execution_count": 84,
   "id": "dd18e8a7",
   "metadata": {},
   "outputs": [
    {
     "data": {
      "text/plain": [
       "333"
      ]
     },
     "execution_count": 84,
     "metadata": {},
     "output_type": "execute_result"
    }
   ],
   "source": [
    "#fetching single element of 3-D Array\n",
    "\n",
    "#first block will try to fetch element from the 4th array from the array list\n",
    "#Second block will try to fetch element from the 1st index row  that is 2nd row\n",
    "#Third block will try to fetch from 2nd index column, ie 3rd column\n",
    "\n",
    "np3_1[3][0][2]"
   ]
  },
  {
   "cell_type": "code",
   "execution_count": 161,
   "id": "b5040e64",
   "metadata": {},
   "outputs": [
    {
     "data": {
      "text/plain": [
       "numpy.int32"
      ]
     },
     "execution_count": 161,
     "metadata": {},
     "output_type": "execute_result"
    }
   ],
   "source": [
    "#default data type of integer element in an array is int32\n",
    "\n",
    "type(np3_1[3][0][2])"
   ]
  },
  {
   "cell_type": "code",
   "execution_count": 91,
   "id": "319efe13",
   "metadata": {},
   "outputs": [
    {
     "data": {
      "text/plain": [
       "array([[[[   1,    2,    3],\n",
       "         [   4,    5,    6]],\n",
       "\n",
       "        [[   7,    8,    9],\n",
       "         [  10,   11,   12]]],\n",
       "\n",
       "\n",
       "       [[[ 111,  222,  333],\n",
       "         [ 444,  555,  666]],\n",
       "\n",
       "        [[ 777,  888,  999],\n",
       "         [1010, 1111, 1212]]]])"
      ]
     },
     "execution_count": 91,
     "metadata": {},
     "output_type": "execute_result"
    }
   ],
   "source": [
    "#creating a 4 dimensional array using Numpy\n",
    "\n",
    "np2 =np.array([[[[1,2,3],[4,5,6]],[[7,8,9],[10,11,12]]],[[[111,222,333],[444,555,666]],[[777,888,999],[1010,1111,1212]]]])\n",
    "np2"
   ]
  },
  {
   "cell_type": "code",
   "execution_count": 105,
   "id": "b5ff9472",
   "metadata": {},
   "outputs": [
    {
     "data": {
      "text/plain": [
       "333"
      ]
     },
     "execution_count": 105,
     "metadata": {},
     "output_type": "execute_result"
    }
   ],
   "source": [
    "#fetching single element of 4-D Array\n",
    "\n",
    "#First block will try to fetch 2nd, 3-d array from the array list\n",
    "#Second block will try to fetch element from the 2nd 3-d array from the array list\n",
    "#Third block will try to fetch element from the 0th index row  that is 1st row\n",
    "#Fourth block will try to fetch from 2nd index column, ie 3rd column\n",
    "\n",
    "np2[1][0][0][2]"
   ]
  },
  {
   "cell_type": "code",
   "execution_count": 112,
   "id": "ea0423fa",
   "metadata": {},
   "outputs": [
    {
     "data": {
      "text/plain": [
       "array([1, 2, 3])"
      ]
     },
     "execution_count": 112,
     "metadata": {},
     "output_type": "execute_result"
    }
   ],
   "source": [
    "#we can create 1st, 2nd , 3rd, 4th dimensional array using below syntax\n",
    "\n",
    "npd1 = np.array([1,2,3], ndmin = 1)\n",
    "npd1"
   ]
  },
  {
   "cell_type": "code",
   "execution_count": 113,
   "id": "a93953b1",
   "metadata": {},
   "outputs": [
    {
     "data": {
      "text/plain": [
       "array([[1, 2, 3]])"
      ]
     },
     "execution_count": 113,
     "metadata": {},
     "output_type": "execute_result"
    }
   ],
   "source": [
    "npd2 = np.array([1,2,3], ndmin = 2)\n",
    "npd2"
   ]
  },
  {
   "cell_type": "code",
   "execution_count": 114,
   "id": "8ef1eb91",
   "metadata": {},
   "outputs": [
    {
     "data": {
      "text/plain": [
       "array([[[1, 2, 3]]])"
      ]
     },
     "execution_count": 114,
     "metadata": {},
     "output_type": "execute_result"
    }
   ],
   "source": [
    "npd3 = np.array([1,2,3], ndmin = 3)\n",
    "npd3"
   ]
  },
  {
   "cell_type": "code",
   "execution_count": 120,
   "id": "4a7e12fb",
   "metadata": {},
   "outputs": [
    {
     "data": {
      "text/plain": [
       "array([[[[1, 2, 3]]]])"
      ]
     },
     "execution_count": 120,
     "metadata": {},
     "output_type": "execute_result"
    }
   ],
   "source": [
    "npd4 = np.array([1,2,3], ndmin = 4)\n",
    "npd4"
   ]
  },
  {
   "cell_type": "code",
   "execution_count": 124,
   "id": "0ebd24e0",
   "metadata": {},
   "outputs": [
    {
     "data": {
      "text/plain": [
       "3"
      ]
     },
     "execution_count": 124,
     "metadata": {},
     "output_type": "execute_result"
    }
   ],
   "source": [
    "npd4[0][0][0][2]"
   ]
  },
  {
   "cell_type": "code",
   "execution_count": 126,
   "id": "7a01651b",
   "metadata": {},
   "outputs": [
    {
     "data": {
      "text/plain": [
       "array([[1.+0.j, 2.+0.j, 3.+0.j]])"
      ]
     },
     "execution_count": 126,
     "metadata": {},
     "output_type": "execute_result"
    }
   ],
   "source": [
    "#we can create 2nd dimensional array of data type complex using below syntax\n",
    "\n",
    "npd2_2j = np.array([1,2,3], ndmin = 2, dtype = complex)\n",
    "npd2_2j"
   ]
  },
  {
   "cell_type": "code",
   "execution_count": 148,
   "id": "4e9ed842",
   "metadata": {},
   "outputs": [
    {
     "data": {
      "text/plain": [
       "array([(1, 2), (4, 5)], dtype=[('a', '<i2'), ('b', '<i4')])"
      ]
     },
     "execution_count": 148,
     "metadata": {},
     "output_type": "execute_result"
    }
   ],
   "source": [
    "#data is stored in form of tuples\n",
    "# first element of the tuple will be of type int16, second element is of type int32\n",
    "\n",
    "np2_2t = np.array([(1,2),(4,5)],dtype = [(\"a\",'<i2'),(\"b\",'<i4')])\n",
    "np2_2t"
   ]
  },
  {
   "cell_type": "code",
   "execution_count": 154,
   "id": "2ef3874e",
   "metadata": {},
   "outputs": [
    {
     "data": {
      "text/plain": [
       "1"
      ]
     },
     "execution_count": 154,
     "metadata": {},
     "output_type": "execute_result"
    }
   ],
   "source": [
    "np2_2t[0][0]"
   ]
  },
  {
   "cell_type": "code",
   "execution_count": 149,
   "id": "9a951e63",
   "metadata": {},
   "outputs": [
    {
     "data": {
      "text/plain": [
       "numpy.int16"
      ]
     },
     "execution_count": 149,
     "metadata": {},
     "output_type": "execute_result"
    }
   ],
   "source": [
    "type(np2_2t[0][0])"
   ]
  },
  {
   "cell_type": "code",
   "execution_count": 155,
   "id": "2e312173",
   "metadata": {},
   "outputs": [
    {
     "data": {
      "text/plain": [
       "2"
      ]
     },
     "execution_count": 155,
     "metadata": {},
     "output_type": "execute_result"
    }
   ],
   "source": [
    "np2_2t[0][1]"
   ]
  },
  {
   "cell_type": "code",
   "execution_count": 150,
   "id": "a0e38b5c",
   "metadata": {},
   "outputs": [
    {
     "data": {
      "text/plain": [
       "numpy.int32"
      ]
     },
     "execution_count": 150,
     "metadata": {},
     "output_type": "execute_result"
    }
   ],
   "source": [
    "type(np2_2t[0][1])"
   ]
  },
  {
   "cell_type": "code",
   "execution_count": 153,
   "id": "5d2f57cd",
   "metadata": {},
   "outputs": [
    {
     "data": {
      "text/plain": [
       "array([[(1, 1), (2, 2)],\n",
       "       [(4, 4), (5, 5)]], dtype=[('a', '<i2'), ('b', '<i4')])"
      ]
     },
     "execution_count": 153,
     "metadata": {},
     "output_type": "execute_result"
    }
   ],
   "source": [
    "#even if we store element in form of list, it will be stored as tuples internally\n",
    "\n",
    "np2_2t1 = np.array([[1,2],[4,5]],dtype = [(\"a\",'<i2'),(\"b\",'<i4')])\n",
    "np2_2t1"
   ]
  },
  {
   "cell_type": "code",
   "execution_count": 152,
   "id": "37e9c955",
   "metadata": {},
   "outputs": [
    {
     "data": {
      "text/plain": [
       "2"
      ]
     },
     "execution_count": 152,
     "metadata": {},
     "output_type": "execute_result"
    }
   ],
   "source": [
    "np2_2t1[0][1][1]"
   ]
  },
  {
   "cell_type": "code",
   "execution_count": 159,
   "id": "891ee2a6",
   "metadata": {},
   "outputs": [
    {
     "data": {
      "text/plain": [
       "numpy.int32"
      ]
     },
     "execution_count": 159,
     "metadata": {},
     "output_type": "execute_result"
    }
   ],
   "source": [
    "type(np2_2t1[0][0][1])"
   ]
  },
  {
   "cell_type": "code",
   "execution_count": 165,
   "id": "d51a8716",
   "metadata": {},
   "outputs": [
    {
     "data": {
      "text/plain": [
       "array([[1, 2, 3],\n",
       "       [4, 5, 6]])"
      ]
     },
     "execution_count": 165,
     "metadata": {},
     "output_type": "execute_result"
    }
   ],
   "source": [
    "#creating a 2 dimensional array\n",
    "\n",
    "npa1 = np.array([[1,2,3],[4,5,6]])\n",
    "npa1"
   ]
  },
  {
   "cell_type": "code",
   "execution_count": 184,
   "id": "03e10db9",
   "metadata": {},
   "outputs": [
    {
     "data": {
      "text/plain": [
       "6"
      ]
     },
     "execution_count": 184,
     "metadata": {},
     "output_type": "execute_result"
    }
   ],
   "source": [
    "#accessing data from 1st index row and 2nd index column\n",
    "npa1[1][2]"
   ]
  },
  {
   "cell_type": "markdown",
   "id": "bc7b50cb",
   "metadata": {},
   "source": [
    "# Matrix"
   ]
  },
  {
   "cell_type": "code",
   "execution_count": 185,
   "id": "8751882c",
   "metadata": {},
   "outputs": [
    {
     "data": {
      "text/plain": [
       "matrix([[1, 2, 3],\n",
       "        [4, 5, 6]])"
      ]
     },
     "execution_count": 185,
     "metadata": {},
     "output_type": "execute_result"
    }
   ],
   "source": [
    "#storing same array in a matrix\n",
    "\n",
    "npm1 = np.matrix(npa1)\n",
    "npm1"
   ]
  },
  {
   "cell_type": "code",
   "execution_count": 186,
   "id": "36b7f2f8",
   "metadata": {},
   "outputs": [
    {
     "data": {
      "text/plain": [
       "matrix([[4, 5, 6]])"
      ]
     },
     "execution_count": 186,
     "metadata": {},
     "output_type": "execute_result"
    }
   ],
   "source": [
    "#accessing first index row of matrix\n",
    "\n",
    "npm1[1]"
   ]
  },
  {
   "cell_type": "code",
   "execution_count": 187,
   "id": "0b609b1a",
   "metadata": {},
   "outputs": [
    {
     "ename": "IndexError",
     "evalue": "index 2 is out of bounds for axis 0 with size 1",
     "output_type": "error",
     "traceback": [
      "\u001b[1;31m---------------------------------------------------------------------------\u001b[0m",
      "\u001b[1;31mIndexError\u001b[0m                                Traceback (most recent call last)",
      "\u001b[1;32m~\\AppData\\Local\\Temp/ipykernel_25888/2268253163.py\u001b[0m in \u001b[0;36m<module>\u001b[1;34m\u001b[0m\n\u001b[0;32m      1\u001b[0m \u001b[1;31m#if we try to access element from 1st index row and 2nd index column of matrix we will get an error\u001b[0m\u001b[1;33m\u001b[0m\u001b[1;33m\u001b[0m\u001b[0m\n\u001b[0;32m      2\u001b[0m \u001b[1;33m\u001b[0m\u001b[0m\n\u001b[1;32m----> 3\u001b[1;33m \u001b[0mnpm1\u001b[0m\u001b[1;33m[\u001b[0m\u001b[1;36m1\u001b[0m\u001b[1;33m]\u001b[0m\u001b[1;33m[\u001b[0m\u001b[1;36m2\u001b[0m\u001b[1;33m]\u001b[0m\u001b[1;33m\u001b[0m\u001b[1;33m\u001b[0m\u001b[0m\n\u001b[0m",
      "\u001b[1;32m~\\anaconda3\\lib\\site-packages\\numpy\\matrixlib\\defmatrix.py\u001b[0m in \u001b[0;36m__getitem__\u001b[1;34m(self, index)\u001b[0m\n\u001b[0;32m    191\u001b[0m \u001b[1;33m\u001b[0m\u001b[0m\n\u001b[0;32m    192\u001b[0m         \u001b[1;32mtry\u001b[0m\u001b[1;33m:\u001b[0m\u001b[1;33m\u001b[0m\u001b[1;33m\u001b[0m\u001b[0m\n\u001b[1;32m--> 193\u001b[1;33m             \u001b[0mout\u001b[0m \u001b[1;33m=\u001b[0m \u001b[0mN\u001b[0m\u001b[1;33m.\u001b[0m\u001b[0mndarray\u001b[0m\u001b[1;33m.\u001b[0m\u001b[0m__getitem__\u001b[0m\u001b[1;33m(\u001b[0m\u001b[0mself\u001b[0m\u001b[1;33m,\u001b[0m \u001b[0mindex\u001b[0m\u001b[1;33m)\u001b[0m\u001b[1;33m\u001b[0m\u001b[1;33m\u001b[0m\u001b[0m\n\u001b[0m\u001b[0;32m    194\u001b[0m         \u001b[1;32mfinally\u001b[0m\u001b[1;33m:\u001b[0m\u001b[1;33m\u001b[0m\u001b[1;33m\u001b[0m\u001b[0m\n\u001b[0;32m    195\u001b[0m             \u001b[0mself\u001b[0m\u001b[1;33m.\u001b[0m\u001b[0m_getitem\u001b[0m \u001b[1;33m=\u001b[0m \u001b[1;32mFalse\u001b[0m\u001b[1;33m\u001b[0m\u001b[1;33m\u001b[0m\u001b[0m\n",
      "\u001b[1;31mIndexError\u001b[0m: index 2 is out of bounds for axis 0 with size 1"
     ]
    }
   ],
   "source": [
    "#if we try to access element from 1st index row and 2nd index column of matrix we will get an error\n",
    "\n",
    "npm1[1][2]"
   ]
  },
  {
   "cell_type": "code",
   "execution_count": 236,
   "id": "165409e6",
   "metadata": {},
   "outputs": [
    {
     "data": {
      "text/plain": [
       "True"
      ]
     },
     "execution_count": 236,
     "metadata": {},
     "output_type": "execute_result"
    }
   ],
   "source": [
    "# Matrix is subclass of array\n",
    "\n",
    "issubclass(np.matrix,np.ndarray)"
   ]
  },
  {
   "cell_type": "code",
   "execution_count": 235,
   "id": "5172fa31",
   "metadata": {},
   "outputs": [
    {
     "data": {
      "text/plain": [
       "False"
      ]
     },
     "execution_count": 235,
     "metadata": {},
     "output_type": "execute_result"
    }
   ],
   "source": [
    "# Array is not subclass of Matrix\n",
    "\n",
    "issubclass(np.ndarray,np.matrix)"
   ]
  },
  {
   "cell_type": "markdown",
   "id": "5f47609b",
   "metadata": {},
   "source": [
    "# asarray"
   ]
  },
  {
   "cell_type": "code",
   "execution_count": 202,
   "id": "9844b638",
   "metadata": {},
   "outputs": [
    {
     "data": {
      "text/plain": [
       "array([[1, 2, 3],\n",
       "       [4, 5, 6]])"
      ]
     },
     "execution_count": 202,
     "metadata": {},
     "output_type": "execute_result"
    }
   ],
   "source": [
    "#asarray function will convert any data into array form\n",
    "#storing array npa1 as array using asa\n",
    "\n",
    "npasar1 = np.asarray(npa1)\n",
    "npasar1"
   ]
  },
  {
   "cell_type": "code",
   "execution_count": 193,
   "id": "2e88319f",
   "metadata": {},
   "outputs": [
    {
     "data": {
      "text/plain": [
       "6"
      ]
     },
     "execution_count": 193,
     "metadata": {},
     "output_type": "execute_result"
    }
   ],
   "source": [
    "#fetching values from npasar1 afer its conversion to array\n",
    "\n",
    "npasar1[1][2]"
   ]
  },
  {
   "cell_type": "code",
   "execution_count": 199,
   "id": "2d2554db",
   "metadata": {},
   "outputs": [
    {
     "data": {
      "text/plain": [
       "array([[1, 2, 3],\n",
       "       [4, 5, 6]])"
      ]
     },
     "execution_count": 199,
     "metadata": {},
     "output_type": "execute_result"
    }
   ],
   "source": [
    "#asarray function will convert any data into array form\n",
    "# It converts matrix element into an array format\n",
    "\n",
    "npasar2 = np.asarray(npm1)\n",
    "npasar2"
   ]
  },
  {
   "cell_type": "code",
   "execution_count": 201,
   "id": "ca98c58d",
   "metadata": {},
   "outputs": [
    {
     "data": {
      "text/plain": [
       "6"
      ]
     },
     "execution_count": 201,
     "metadata": {},
     "output_type": "execute_result"
    }
   ],
   "source": [
    "# after conversion of Matrix into array, we will be able to fetch value from previously defined matrix\n",
    "npasar2[1][2]"
   ]
  },
  {
   "cell_type": "code",
   "execution_count": 212,
   "id": "1bf2fb01",
   "metadata": {},
   "outputs": [
    {
     "data": {
      "text/plain": [
       "array([1, 2, 3, 4, 5])"
      ]
     },
     "execution_count": 212,
     "metadata": {},
     "output_type": "execute_result"
    }
   ],
   "source": [
    "#asarray function converts list into array\n",
    "\n",
    "list1 = [1,2,3,4,5]\n",
    "npasar3 =np.asarray(list1)\n",
    "npasar3"
   ]
  },
  {
   "cell_type": "markdown",
   "id": "35a67053",
   "metadata": {},
   "source": [
    "# asanyarray"
   ]
  },
  {
   "cell_type": "code",
   "execution_count": 219,
   "id": "10521d4a",
   "metadata": {},
   "outputs": [
    {
     "data": {
      "text/plain": [
       "array([[1, 2, 3],\n",
       "       [4, 5, 6]])"
      ]
     },
     "execution_count": 219,
     "metadata": {},
     "output_type": "execute_result"
    }
   ],
   "source": [
    "# asanyarray will see data type of element. If element is already available in array or matrix format,\n",
    "# it will keep as it is or will convert the element into array format\n",
    "\n",
    "#storing array npa1 as any array\n",
    "\n",
    "npasanar1 = np.asanyarray(npa1)\n",
    "npasanar1"
   ]
  },
  {
   "cell_type": "code",
   "execution_count": 222,
   "id": "d741c689",
   "metadata": {},
   "outputs": [
    {
     "data": {
      "text/plain": [
       "3"
      ]
     },
     "execution_count": 222,
     "metadata": {},
     "output_type": "execute_result"
    }
   ],
   "source": [
    "npasanar1[0][2]"
   ]
  },
  {
   "cell_type": "code",
   "execution_count": 224,
   "id": "066efe34",
   "metadata": {},
   "outputs": [
    {
     "data": {
      "text/plain": [
       "array([1, 2, 3, 4, 5])"
      ]
     },
     "execution_count": 224,
     "metadata": {},
     "output_type": "execute_result"
    }
   ],
   "source": [
    "# asanyarray will see data type of element. If its not in array or matrix format, it will convert the element\n",
    "#storing list List1 as array using asanyarray function\n",
    "\n",
    "list1 = [1,2,3,4,5]\n",
    "npasanar2 =np.asanyarray(list1)\n",
    "npasanar2"
   ]
  },
  {
   "cell_type": "code",
   "execution_count": 227,
   "id": "64b42c07",
   "metadata": {},
   "outputs": [
    {
     "data": {
      "text/plain": [
       "1"
      ]
     },
     "execution_count": 227,
     "metadata": {},
     "output_type": "execute_result"
    }
   ],
   "source": [
    "npasanar2[0]"
   ]
  },
  {
   "cell_type": "code",
   "execution_count": 230,
   "id": "cd9041c2",
   "metadata": {},
   "outputs": [
    {
     "data": {
      "text/plain": [
       "matrix([[1, 2, 3],\n",
       "        [4, 5, 6]])"
      ]
     },
     "execution_count": 230,
     "metadata": {},
     "output_type": "execute_result"
    }
   ],
   "source": [
    "# asanyarray will see data type of element. If element is already available in array or matrix format,\n",
    "# it will keep as it is or will convert the element into array format\n",
    "\n",
    "#storing array npm1 as any array\n",
    "\n",
    "npasanar3 = np.asanyarray(npm1)\n",
    "npasanar3"
   ]
  },
  {
   "cell_type": "code",
   "execution_count": 231,
   "id": "d6086d41",
   "metadata": {},
   "outputs": [
    {
     "data": {
      "text/plain": [
       "matrix([[4, 5, 6]])"
      ]
     },
     "execution_count": 231,
     "metadata": {},
     "output_type": "execute_result"
    }
   ],
   "source": [
    "npasanar3[1]"
   ]
  },
  {
   "cell_type": "code",
   "execution_count": 4,
   "id": "736f5c9f",
   "metadata": {},
   "outputs": [
    {
     "data": {
      "text/plain": [
       "array([[1, 2],\n",
       "       [3, 4]])"
      ]
     },
     "execution_count": 4,
     "metadata": {},
     "output_type": "execute_result"
    }
   ],
   "source": [
    "arr = np.array([[1,2],[3,4]])\n",
    "arr"
   ]
  },
  {
   "cell_type": "code",
   "execution_count": 5,
   "id": "d28f7225",
   "metadata": {},
   "outputs": [],
   "source": [
    "# it is called shallow copy\n",
    "a = arr"
   ]
  },
  {
   "cell_type": "code",
   "execution_count": 6,
   "id": "8bf87634",
   "metadata": {},
   "outputs": [],
   "source": [
    "# it is called deep copy\n",
    "b = np.copy(arr)"
   ]
  },
  {
   "cell_type": "code",
   "execution_count": 8,
   "id": "d47680c0",
   "metadata": {},
   "outputs": [
    {
     "data": {
      "text/plain": [
       "array([[67,  2],\n",
       "       [ 3,  4]])"
      ]
     },
     "execution_count": 8,
     "metadata": {},
     "output_type": "execute_result"
    }
   ],
   "source": [
    "# Lets change value of 1st element of array from 1 to 67\n",
    "arr[0][0]= 67\n",
    "arr"
   ]
  },
  {
   "cell_type": "code",
   "execution_count": 11,
   "id": "8bc2c9ad",
   "metadata": {},
   "outputs": [
    {
     "data": {
      "text/plain": [
       "array([[67,  2],\n",
       "       [ 3,  4]])"
      ]
     },
     "execution_count": 11,
     "metadata": {},
     "output_type": "execute_result"
    }
   ],
   "source": [
    "# If arr element got changed, it will reflect in assigned variable a as array a will still refer to original variable loc\n",
    "\n",
    "a"
   ]
  },
  {
   "cell_type": "code",
   "execution_count": 12,
   "id": "ab4cee8b",
   "metadata": {},
   "outputs": [
    {
     "data": {
      "text/plain": [
       "array([[1, 2],\n",
       "       [3, 4]])"
      ]
     },
     "execution_count": 12,
     "metadata": {},
     "output_type": "execute_result"
    }
   ],
   "source": [
    "# If arr element got changed, it will not reflect in copied array b as b is a new entity\n",
    "b"
   ]
  },
  {
   "cell_type": "markdown",
   "id": "14081199",
   "metadata": {},
   "source": [
    "# fromfunction"
   ]
  },
  {
   "cell_type": "code",
   "execution_count": 40,
   "id": "ad422b57",
   "metadata": {},
   "outputs": [
    {
     "data": {
      "text/plain": [
       "array([[ True, False, False, False],\n",
       "       [False,  True, False, False],\n",
       "       [False, False,  True, False],\n",
       "       [False, False, False,  True]])"
      ]
     },
     "execution_count": 40,
     "metadata": {},
     "output_type": "execute_result"
    }
   ],
   "source": [
    "np.fromfunction(lambda i,j : i==j,(4,4))"
   ]
  },
  {
   "cell_type": "code",
   "execution_count": 41,
   "id": "404691b5",
   "metadata": {},
   "outputs": [
    {
     "data": {
      "text/plain": [
       "array([[ 1.,  0.,  0.,  0.],\n",
       "       [ 1.,  1.,  1.,  1.],\n",
       "       [ 1.,  2.,  4.,  8.],\n",
       "       [ 1.,  3.,  9., 27.]])"
      ]
     },
     "execution_count": 41,
     "metadata": {},
     "output_type": "execute_result"
    }
   ],
   "source": [
    "np.fromfunction(lambda i,j : i**j,(4,4))"
   ]
  },
  {
   "cell_type": "code",
   "execution_count": 47,
   "id": "38ee773b",
   "metadata": {},
   "outputs": [
    {
     "data": {
      "text/plain": [
       "[0, 1, 4, 9, 16]"
      ]
     },
     "execution_count": 47,
     "metadata": {},
     "output_type": "execute_result"
    }
   ],
   "source": [
    "k= [i*i for i in range(5)]\n",
    "k"
   ]
  },
  {
   "cell_type": "code",
   "execution_count": 48,
   "id": "0b8a900f",
   "metadata": {},
   "outputs": [
    {
     "data": {
      "text/plain": [
       "list"
      ]
     },
     "execution_count": 48,
     "metadata": {},
     "output_type": "execute_result"
    }
   ],
   "source": [
    "type(k)"
   ]
  },
  {
   "cell_type": "markdown",
   "id": "6383ab35",
   "metadata": {},
   "source": [
    "# Fromiter"
   ]
  },
  {
   "cell_type": "code",
   "execution_count": 65,
   "id": "4efe79fd",
   "metadata": {},
   "outputs": [
    {
     "data": {
      "text/plain": [
       "<generator object <genexpr> at 0x0000027A29BB83C0>"
      ]
     },
     "execution_count": 65,
     "metadata": {},
     "output_type": "execute_result"
    }
   ],
   "source": [
    "gen = (i*i for i in range(5))\n",
    "gen"
   ]
  },
  {
   "cell_type": "code",
   "execution_count": 50,
   "id": "b5c2f9fd",
   "metadata": {},
   "outputs": [
    {
     "data": {
      "text/plain": [
       "generator"
      ]
     },
     "execution_count": 50,
     "metadata": {},
     "output_type": "execute_result"
    }
   ],
   "source": [
    "type(gen)"
   ]
  },
  {
   "cell_type": "code",
   "execution_count": 62,
   "id": "34809a71",
   "metadata": {},
   "outputs": [
    {
     "data": {
      "text/plain": [
       "array([ 0,  1,  4,  9, 16])"
      ]
     },
     "execution_count": 62,
     "metadata": {},
     "output_type": "execute_result"
    }
   ],
   "source": [
    "np.fromiter(gen,dtype = int)"
   ]
  },
  {
   "cell_type": "code",
   "execution_count": 64,
   "id": "60d2cdde",
   "metadata": {},
   "outputs": [
    {
     "data": {
      "text/plain": [
       "array([ 0.,  1.,  4.,  9., 16.])"
      ]
     },
     "execution_count": 64,
     "metadata": {},
     "output_type": "execute_result"
    }
   ],
   "source": [
    "np.fromiter(gen, dtype = float)"
   ]
  },
  {
   "cell_type": "code",
   "execution_count": 67,
   "id": "92c592c9",
   "metadata": {},
   "outputs": [
    {
     "data": {
      "text/plain": [
       "array([0, 1, 2, 3, 4, 5, 6, 7, 8, 9])"
      ]
     },
     "execution_count": 67,
     "metadata": {},
     "output_type": "execute_result"
    }
   ],
   "source": [
    "np.fromiter(range(10),dtype = int)"
   ]
  },
  {
   "cell_type": "markdown",
   "id": "5d1b946d",
   "metadata": {},
   "source": [
    "# fromstring"
   ]
  },
  {
   "cell_type": "code",
   "execution_count": 74,
   "id": "43b1cfa8",
   "metadata": {},
   "outputs": [
    {
     "data": {
      "text/plain": [
       "array([ 1,  2, 77, 18,  7])"
      ]
     },
     "execution_count": 74,
     "metadata": {},
     "output_type": "execute_result"
    }
   ],
   "source": [
    "np.fromstring('1, 2, 77, 18, 7', sep =',' ,dtype = int)"
   ]
  },
  {
   "cell_type": "code",
   "execution_count": 80,
   "id": "ca8b5029",
   "metadata": {},
   "outputs": [
    {
     "data": {
      "text/plain": [
       "array([ 1,  2, 77, 18,  7])"
      ]
     },
     "execution_count": 80,
     "metadata": {},
     "output_type": "execute_result"
    }
   ],
   "source": [
    "np.fromstring('1 2 77 18 7', sep =' ' ,dtype = int)"
   ]
  },
  {
   "cell_type": "markdown",
   "id": "498265ed",
   "metadata": {},
   "source": [
    "# RANGE and ARANGE"
   ]
  },
  {
   "cell_type": "code",
   "execution_count": 104,
   "id": "62c0fb7b",
   "metadata": {},
   "outputs": [
    {
     "data": {
      "text/plain": [
       "[6, 8, 10, 12, 14]"
      ]
     },
     "execution_count": 104,
     "metadata": {},
     "output_type": "execute_result"
    }
   ],
   "source": [
    "#creating a list of data starting from 6 till upperbound of 15 with step size of 2\n",
    "\n",
    "list(range(6,15,2))"
   ]
  },
  {
   "cell_type": "code",
   "execution_count": 100,
   "id": "c6d95041",
   "metadata": {},
   "outputs": [
    {
     "ename": "TypeError",
     "evalue": "'float' object cannot be interpreted as an integer",
     "output_type": "error",
     "traceback": [
      "\u001b[1;31m---------------------------------------------------------------------------\u001b[0m",
      "\u001b[1;31mTypeError\u001b[0m                                 Traceback (most recent call last)",
      "\u001b[1;32m~\\AppData\\Local\\Temp/ipykernel_38624/3870263620.py\u001b[0m in \u001b[0;36m<module>\u001b[1;34m\u001b[0m\n\u001b[0;32m      1\u001b[0m \u001b[1;31m# range function will not work for floating point data\u001b[0m\u001b[1;33m\u001b[0m\u001b[1;33m\u001b[0m\u001b[0m\n\u001b[0;32m      2\u001b[0m \u001b[1;33m\u001b[0m\u001b[0m\n\u001b[1;32m----> 3\u001b[1;33m \u001b[0mlist\u001b[0m\u001b[1;33m(\u001b[0m\u001b[0mrange\u001b[0m\u001b[1;33m(\u001b[0m\u001b[1;36m6.5\u001b[0m\u001b[1;33m,\u001b[0m\u001b[1;36m15\u001b[0m\u001b[1;33m,\u001b[0m\u001b[1;36m.2\u001b[0m\u001b[1;33m)\u001b[0m\u001b[1;33m)\u001b[0m\u001b[1;33m\u001b[0m\u001b[1;33m\u001b[0m\u001b[0m\n\u001b[0m",
      "\u001b[1;31mTypeError\u001b[0m: 'float' object cannot be interpreted as an integer"
     ]
    }
   ],
   "source": [
    "# range function will not work for floating point data\n",
    "\n",
    "list(range(6.5,15,.2))"
   ]
  },
  {
   "cell_type": "code",
   "execution_count": 103,
   "id": "50ee07e3",
   "metadata": {},
   "outputs": [
    {
     "data": {
      "text/plain": [
       "array([ 6,  8, 10, 12, 14])"
      ]
     },
     "execution_count": 103,
     "metadata": {},
     "output_type": "execute_result"
    }
   ],
   "source": [
    "# arange will work for both integer and floating values\n",
    "\n",
    "np.arange(6,15,2)"
   ]
  },
  {
   "cell_type": "code",
   "execution_count": 101,
   "id": "cc8142de",
   "metadata": {},
   "outputs": [
    {
     "data": {
      "text/plain": [
       "array([ 6.5,  6.7,  6.9,  7.1,  7.3,  7.5,  7.7,  7.9,  8.1,  8.3,  8.5,\n",
       "        8.7,  8.9,  9.1,  9.3,  9.5,  9.7,  9.9, 10.1, 10.3, 10.5, 10.7,\n",
       "       10.9, 11.1, 11.3, 11.5, 11.7, 11.9, 12.1, 12.3, 12.5, 12.7, 12.9,\n",
       "       13.1, 13.3, 13.5, 13.7, 13.9, 14.1, 14.3, 14.5, 14.7, 14.9])"
      ]
     },
     "execution_count": 101,
     "metadata": {},
     "output_type": "execute_result"
    }
   ],
   "source": [
    "# arange will work for floating point\n",
    "\n",
    "np.arange(6.5,15,.2)"
   ]
  },
  {
   "cell_type": "markdown",
   "id": "da45ce46",
   "metadata": {},
   "source": [
    "# linspace"
   ]
  },
  {
   "cell_type": "code",
   "execution_count": 106,
   "id": "833a7e7d",
   "metadata": {},
   "outputs": [
    {
     "data": {
      "text/plain": [
       "array([1.        , 1.06122449, 1.12244898, 1.18367347, 1.24489796,\n",
       "       1.30612245, 1.36734694, 1.42857143, 1.48979592, 1.55102041,\n",
       "       1.6122449 , 1.67346939, 1.73469388, 1.79591837, 1.85714286,\n",
       "       1.91836735, 1.97959184, 2.04081633, 2.10204082, 2.16326531,\n",
       "       2.2244898 , 2.28571429, 2.34693878, 2.40816327, 2.46938776,\n",
       "       2.53061224, 2.59183673, 2.65306122, 2.71428571, 2.7755102 ,\n",
       "       2.83673469, 2.89795918, 2.95918367, 3.02040816, 3.08163265,\n",
       "       3.14285714, 3.20408163, 3.26530612, 3.32653061, 3.3877551 ,\n",
       "       3.44897959, 3.51020408, 3.57142857, 3.63265306, 3.69387755,\n",
       "       3.75510204, 3.81632653, 3.87755102, 3.93877551, 4.        ])"
      ]
     },
     "execution_count": 106,
     "metadata": {},
     "output_type": "execute_result"
    }
   ],
   "source": [
    "#it will generate data in floating point in range of 1 and 4\n",
    "np.linspace(1,4)"
   ]
  },
  {
   "cell_type": "code",
   "execution_count": 107,
   "id": "0ce03c77",
   "metadata": {},
   "outputs": [
    {
     "data": {
      "text/plain": [
       "array([1. , 2.5, 4. ])"
      ]
     },
     "execution_count": 107,
     "metadata": {},
     "output_type": "execute_result"
    }
   ],
   "source": [
    "# it will generate 3 data between 1 and 4. so most likely data will be at equal interval \n",
    "\n",
    "np.linspace(1,4,3)"
   ]
  },
  {
   "cell_type": "code",
   "execution_count": 109,
   "id": "79f901fa",
   "metadata": {},
   "outputs": [
    {
     "data": {
      "text/plain": [
       "array([1.  , 1.75, 2.5 , 3.25, 4.  ])"
      ]
     },
     "execution_count": 109,
     "metadata": {},
     "output_type": "execute_result"
    }
   ],
   "source": [
    "# it will generate 5 data between 1 and 4. with interval size of .75\n",
    "\n",
    "np.linspace(1,4,5)"
   ]
  },
  {
   "cell_type": "code",
   "execution_count": 138,
   "id": "1d36c66b",
   "metadata": {},
   "outputs": [
    {
     "data": {
      "text/plain": [
       "array([2.        , 2.66666667, 3.33333333, 4.        ])"
      ]
     },
     "execution_count": 138,
     "metadata": {},
     "output_type": "execute_result"
    }
   ],
   "source": [
    "#it will by default include the upper bound element. 4 in this case\n",
    "\n",
    "np.linspace(2,4,4, endpoint =True)"
   ]
  },
  {
   "cell_type": "code",
   "execution_count": 136,
   "id": "32004e24",
   "metadata": {},
   "outputs": [
    {
     "data": {
      "text/plain": [
       "array([2. , 2.5, 3. , 3.5])"
      ]
     },
     "execution_count": 136,
     "metadata": {},
     "output_type": "execute_result"
    }
   ],
   "source": [
    "#it will omit the upper bound element. 4 in this case\n",
    "\n",
    "np.linspace(2,4,4, endpoint =False)"
   ]
  },
  {
   "cell_type": "markdown",
   "id": "ca29d10e",
   "metadata": {},
   "source": [
    "# zeros and ones"
   ]
  },
  {
   "cell_type": "code",
   "execution_count": 111,
   "id": "bf904512",
   "metadata": {},
   "outputs": [
    {
     "data": {
      "text/plain": [
       "array([0., 0., 0., 0.])"
      ]
     },
     "execution_count": 111,
     "metadata": {},
     "output_type": "execute_result"
    }
   ],
   "source": [
    "#it will create an 1 dimension array with all element as zeros\n",
    "\n",
    "np.zeros(4)"
   ]
  },
  {
   "cell_type": "code",
   "execution_count": 115,
   "id": "18125173",
   "metadata": {},
   "outputs": [
    {
     "data": {
      "text/plain": [
       "array([[0., 0.],\n",
       "       [0., 0.],\n",
       "       [0., 0.],\n",
       "       [0., 0.]])"
      ]
     },
     "execution_count": 115,
     "metadata": {},
     "output_type": "execute_result"
    }
   ],
   "source": [
    "#it will create an 2 dimension array (4 *2) with all element as zeros\n",
    "\n",
    "np.zeros([4,2])"
   ]
  },
  {
   "cell_type": "code",
   "execution_count": 117,
   "id": "9e8ea143",
   "metadata": {},
   "outputs": [
    {
     "data": {
      "text/plain": [
       "array([[[0., 0.],\n",
       "        [0., 0.],\n",
       "        [0., 0.],\n",
       "        [0., 0.]],\n",
       "\n",
       "       [[0., 0.],\n",
       "        [0., 0.],\n",
       "        [0., 0.],\n",
       "        [0., 0.]],\n",
       "\n",
       "       [[0., 0.],\n",
       "        [0., 0.],\n",
       "        [0., 0.],\n",
       "        [0., 0.]]])"
      ]
     },
     "execution_count": 117,
     "metadata": {},
     "output_type": "execute_result"
    }
   ],
   "source": [
    "# It will create an 3 dimension array of (4 *2) with all element as zeros\n",
    "\n",
    "np.zeros([3,4,2])"
   ]
  },
  {
   "cell_type": "code",
   "execution_count": 121,
   "id": "8986c549",
   "metadata": {},
   "outputs": [
    {
     "data": {
      "text/plain": [
       "array([1., 1., 1., 1.])"
      ]
     },
     "execution_count": 121,
     "metadata": {},
     "output_type": "execute_result"
    }
   ],
   "source": [
    "#it will create an 1 dimension array with all element as ones\n",
    "\n",
    "np.ones(4)"
   ]
  },
  {
   "cell_type": "code",
   "execution_count": 119,
   "id": "c44bf6cf",
   "metadata": {},
   "outputs": [
    {
     "data": {
      "text/plain": [
       "array([[1., 1.],\n",
       "       [1., 1.],\n",
       "       [1., 1.],\n",
       "       [1., 1.]])"
      ]
     },
     "execution_count": 119,
     "metadata": {},
     "output_type": "execute_result"
    }
   ],
   "source": [
    "#it will create an 2 dimension array (4 *2) with all element as ones\n",
    "\n",
    "np.ones([4,2])"
   ]
  },
  {
   "cell_type": "code",
   "execution_count": 120,
   "id": "9248f1c4",
   "metadata": {},
   "outputs": [
    {
     "data": {
      "text/plain": [
       "array([[[1., 1.],\n",
       "        [1., 1.],\n",
       "        [1., 1.],\n",
       "        [1., 1.]],\n",
       "\n",
       "       [[1., 1.],\n",
       "        [1., 1.],\n",
       "        [1., 1.],\n",
       "        [1., 1.]],\n",
       "\n",
       "       [[1., 1.],\n",
       "        [1., 1.],\n",
       "        [1., 1.],\n",
       "        [1., 1.]]])"
      ]
     },
     "execution_count": 120,
     "metadata": {},
     "output_type": "execute_result"
    }
   ],
   "source": [
    "# It will create an 3 dimension array of (4 *2) with all element as ones\n",
    "\n",
    "np.ones([3,4,2])"
   ]
  },
  {
   "cell_type": "code",
   "execution_count": 124,
   "id": "45c7e161",
   "metadata": {},
   "outputs": [
    {
     "data": {
      "text/plain": [
       "array([[[5., 5.],\n",
       "        [5., 5.],\n",
       "        [5., 5.],\n",
       "        [5., 5.]],\n",
       "\n",
       "       [[5., 5.],\n",
       "        [5., 5.],\n",
       "        [5., 5.],\n",
       "        [5., 5.]],\n",
       "\n",
       "       [[5., 5.],\n",
       "        [5., 5.],\n",
       "        [5., 5.],\n",
       "        [5., 5.]]])"
      ]
     },
     "execution_count": 124,
     "metadata": {},
     "output_type": "execute_result"
    }
   ],
   "source": [
    "# It will create an 3 dimension array of (4 *2) with all element as ones and then 4 to each element\n",
    "\n",
    "np.ones([3,4,2]) + 4"
   ]
  },
  {
   "cell_type": "code",
   "execution_count": 128,
   "id": "2e04762a",
   "metadata": {},
   "outputs": [
    {
     "data": {
      "text/plain": [
       "array([[1., 0., 0., 0., 0.],\n",
       "       [0., 1., 0., 0., 0.],\n",
       "       [0., 0., 1., 0., 0.],\n",
       "       [0., 0., 0., 1., 0.],\n",
       "       [0., 0., 0., 0., 1.]])"
      ]
     },
     "execution_count": 128,
     "metadata": {},
     "output_type": "execute_result"
    }
   ],
   "source": [
    "#it will create identity matrix of 5 * 5 with value 1 at (0,0),(1,1),(2,2),(3,3),(4,4) index and rest has 0's in it\n",
    "\n",
    "np.eye(5) "
   ]
  },
  {
   "cell_type": "code",
   "execution_count": 130,
   "id": "733b92b9",
   "metadata": {},
   "outputs": [
    {
     "data": {
      "text/plain": [
       "array([[8., 7., 7., 7., 7.],\n",
       "       [7., 8., 7., 7., 7.],\n",
       "       [7., 7., 8., 7., 7.],\n",
       "       [7., 7., 7., 8., 7.],\n",
       "       [7., 7., 7., 7., 8.]])"
      ]
     },
     "execution_count": 130,
     "metadata": {},
     "output_type": "execute_result"
    }
   ],
   "source": [
    "#add value 7 to each element\n",
    "np.eye(5) + 7"
   ]
  },
  {
   "cell_type": "markdown",
   "id": "b2061044",
   "metadata": {},
   "source": [
    "# Reshape"
   ]
  },
  {
   "cell_type": "code",
   "execution_count": 153,
   "id": "b3ff7bbb",
   "metadata": {},
   "outputs": [
    {
     "data": {
      "text/plain": [
       "array([[ 1,  5,  4, 32],\n",
       "       [ 3,  8,  9, 10]])"
      ]
     },
     "execution_count": 153,
     "metadata": {},
     "output_type": "execute_result"
    }
   ],
   "source": [
    "# creating 2 dimensional array\n",
    "d = np.array([[1,5,4,32],[3,8,9,10]])\n",
    "d"
   ]
  },
  {
   "cell_type": "code",
   "execution_count": 155,
   "id": "75475fc7",
   "metadata": {},
   "outputs": [
    {
     "data": {
      "text/plain": [
       "9"
      ]
     },
     "execution_count": 155,
     "metadata": {},
     "output_type": "execute_result"
    }
   ],
   "source": [
    "#To acces element 9 from this 2 d array\n",
    "d[1,2]"
   ]
  },
  {
   "cell_type": "code",
   "execution_count": 162,
   "id": "9027cafc",
   "metadata": {},
   "outputs": [
    {
     "data": {
      "text/plain": [
       "array([[ 1,  5],\n",
       "       [ 4, 32],\n",
       "       [ 3,  8],\n",
       "       [ 9, 10]])"
      ]
     },
     "execution_count": 162,
     "metadata": {},
     "output_type": "execute_result"
    }
   ],
   "source": [
    "# We can reshape the existing 2 dimensional array using reshape function into 4 *2\n",
    "\n",
    "d1=d.reshape(4,2)\n",
    "d1"
   ]
  },
  {
   "cell_type": "code",
   "execution_count": 175,
   "id": "39e74d68",
   "metadata": {},
   "outputs": [
    {
     "data": {
      "text/plain": [
       "2"
      ]
     },
     "execution_count": 175,
     "metadata": {},
     "output_type": "execute_result"
    }
   ],
   "source": [
    "#dimension of array d1 still remains 2 d, but yes its matrix gets changed from 2 *4 to 4 *2\n",
    "\n",
    "d1.ndim"
   ]
  },
  {
   "cell_type": "code",
   "execution_count": 176,
   "id": "149a7702",
   "metadata": {},
   "outputs": [
    {
     "data": {
      "text/plain": [
       "9"
      ]
     },
     "execution_count": 176,
     "metadata": {},
     "output_type": "execute_result"
    }
   ],
   "source": [
    "#To acces element 9 from this 2 d array d1\n",
    "\n",
    "d1[3,0]"
   ]
  },
  {
   "cell_type": "code",
   "execution_count": 185,
   "id": "b9f42b14",
   "metadata": {},
   "outputs": [
    {
     "data": {
      "text/plain": [
       "array([[[ 1,  5,  4, 32,  3,  8,  9, 10]]])"
      ]
     },
     "execution_count": 185,
     "metadata": {},
     "output_type": "execute_result"
    }
   ],
   "source": [
    "# We can reshape the existing 2 dimensional array  into 3 d using reshape function into 1*1*8\n",
    "\n",
    "d2 = d.reshape(1,1,8)\n",
    "d2"
   ]
  },
  {
   "cell_type": "code",
   "execution_count": 173,
   "id": "7bc7b59d",
   "metadata": {},
   "outputs": [
    {
     "data": {
      "text/plain": [
       "3"
      ]
     },
     "execution_count": 173,
     "metadata": {},
     "output_type": "execute_result"
    }
   ],
   "source": [
    "# dimension is 3 D\n",
    "d2.ndim"
   ]
  },
  {
   "cell_type": "code",
   "execution_count": 174,
   "id": "b9819fbf",
   "metadata": {},
   "outputs": [
    {
     "data": {
      "text/plain": [
       "4"
      ]
     },
     "execution_count": 174,
     "metadata": {},
     "output_type": "execute_result"
    }
   ],
   "source": [
    "# Fetching element from 3 d array\n",
    "\n",
    "d2[0,0,2]"
   ]
  },
  {
   "cell_type": "code",
   "execution_count": 186,
   "id": "5fe40b98",
   "metadata": {},
   "outputs": [
    {
     "data": {
      "text/plain": [
       "array([[[ 1,  5,  4, 32],\n",
       "        [ 3,  8,  9, 10]]])"
      ]
     },
     "execution_count": 186,
     "metadata": {},
     "output_type": "execute_result"
    }
   ],
   "source": [
    "# We can give any negative element as the last element and it will figure out automatically what would be the dimension\n",
    "# Over here we have 8 elements and we have asked to convert into 3-D array \n",
    "# so -1 gets converted to 4, so it become 2 * 4\n",
    "\n",
    "d3 = d.reshape(1,2,-1)\n",
    "d3"
   ]
  },
  {
   "cell_type": "code",
   "execution_count": 188,
   "id": "6ac01148",
   "metadata": {},
   "outputs": [
    {
     "data": {
      "text/plain": [
       "array([[[ 1,  5],\n",
       "        [ 4, 32],\n",
       "        [ 3,  8],\n",
       "        [ 9, 10]]])"
      ]
     },
     "execution_count": 188,
     "metadata": {},
     "output_type": "execute_result"
    }
   ],
   "source": [
    "# We can give any negative element as the last element and it will figure out automatically what would be the dimension\n",
    "# Over here we have 8 elements and we have asked to convert into 3-D array \n",
    "# so -1 gets converted to 2, so it become 4 * 2 array\n",
    "\n",
    "d4 = d.reshape(1,4,-1)\n",
    "d4"
   ]
  },
  {
   "cell_type": "code",
   "execution_count": 189,
   "id": "1f6356e5",
   "metadata": {},
   "outputs": [
    {
     "data": {
      "text/plain": [
       "32"
      ]
     },
     "execution_count": 189,
     "metadata": {},
     "output_type": "execute_result"
    }
   ],
   "source": [
    "# will give maximum value in the array\n",
    "\n",
    "d4.max()"
   ]
  },
  {
   "cell_type": "code",
   "execution_count": 191,
   "id": "d0a5d9bc",
   "metadata": {},
   "outputs": [
    {
     "data": {
      "text/plain": [
       "1"
      ]
     },
     "execution_count": 191,
     "metadata": {},
     "output_type": "execute_result"
    }
   ],
   "source": [
    "# will give minimum value in the array\n",
    "\n",
    "d4.min()"
   ]
  },
  {
   "cell_type": "markdown",
   "id": "b13da9e6",
   "metadata": {},
   "source": [
    "# Data fetching from Array"
   ]
  },
  {
   "cell_type": "code",
   "execution_count": 203,
   "id": "5d6e7101",
   "metadata": {},
   "outputs": [
    {
     "data": {
      "text/plain": [
       "array([[76, 27, 26,  5, 75],\n",
       "       [73, 82, 76, 33, 89],\n",
       "       [ 7, 86, 31, 56, 61],\n",
       "       [86, 88,  6,  9, 25],\n",
       "       [43, 32, 54, 42,  6]])"
      ]
     },
     "execution_count": 203,
     "metadata": {},
     "output_type": "execute_result"
    }
   ],
   "source": [
    "np.random.seed()\n",
    "d5= np.random.randint(4,100,(5,5))\n",
    "d5"
   ]
  },
  {
   "cell_type": "code",
   "execution_count": 253,
   "id": "9408ccd5",
   "metadata": {},
   "outputs": [
    {
     "data": {
      "text/plain": [
       "array([[86, 31],\n",
       "       [88,  6]])"
      ]
     },
     "execution_count": 253,
     "metadata": {},
     "output_type": "execute_result"
    }
   ],
   "source": [
    "# in case we need to fetch any element of array\n",
    "# we can give row number and till what row we want data from it\n",
    "# we can give column number and till what column we want data from it\n",
    "# so it gives 2 * 2 dimension array\n",
    "\n",
    "d6= d5[2:4,1:3]\n",
    "d6"
   ]
  },
  {
   "cell_type": "code",
   "execution_count": 269,
   "id": "c7d4cc5f",
   "metadata": {},
   "outputs": [
    {
     "data": {
      "text/plain": [
       "array([[27,  5],\n",
       "       [82, 33],\n",
       "       [86, 56],\n",
       "       [88,  9],\n",
       "       [32, 42]])"
      ]
     },
     "execution_count": 269,
     "metadata": {},
     "output_type": "execute_result"
    }
   ],
   "source": [
    "# if we need column 1st and 3rd index we can give row as constant and columnar data can be handpicked by giving the number\n",
    "\n",
    "d7 = d5[:,[1,3]]\n",
    "d7"
   ]
  },
  {
   "cell_type": "code",
   "execution_count": 279,
   "id": "ea479621",
   "metadata": {},
   "outputs": [
    {
     "data": {
      "text/plain": [
       "array([[ True,  True,  True, False,  True],\n",
       "       [ True,  True,  True,  True,  True],\n",
       "       [False,  True,  True,  True,  True],\n",
       "       [ True,  True, False, False,  True],\n",
       "       [ True,  True,  True,  True, False]])"
      ]
     },
     "execution_count": 279,
     "metadata": {},
     "output_type": "execute_result"
    }
   ],
   "source": [
    "#we can give condition to figure out what all elements are greater than 10\n",
    "\n",
    "d5>10"
   ]
  },
  {
   "cell_type": "code",
   "execution_count": 283,
   "id": "e8c0b6fa",
   "metadata": {},
   "outputs": [
    {
     "data": {
      "text/plain": [
       "array([76, 27, 26, 75, 73, 82, 76, 33, 89, 86, 31, 56, 61, 86, 88, 25, 43,\n",
       "       32, 54, 42])"
      ]
     },
     "execution_count": 283,
     "metadata": {},
     "output_type": "execute_result"
    }
   ],
   "source": [
    "# To get a value of elements we can give following condition\n",
    "\n",
    "d8=d5[d5>10]\n",
    "d8"
   ]
  },
  {
   "cell_type": "code",
   "execution_count": 284,
   "id": "fdeb9310",
   "metadata": {},
   "outputs": [
    {
     "data": {
      "text/plain": [
       "array([[76, 27, 26, 75],\n",
       "       [73, 82, 76, 33],\n",
       "       [89, 86, 31, 56],\n",
       "       [61, 86, 88, 25],\n",
       "       [43, 32, 54, 42]])"
      ]
     },
     "execution_count": 284,
     "metadata": {},
     "output_type": "execute_result"
    }
   ],
   "source": [
    "d8.reshape(5,4)"
   ]
  },
  {
   "cell_type": "code",
   "execution_count": 289,
   "id": "cf28ad10",
   "metadata": {},
   "outputs": [
    {
     "data": {
      "text/plain": [
       "array([[76, 27, 26, 75, 73],\n",
       "       [82, 76, 33, 89, 86],\n",
       "       [31, 56, 61, 86, 88],\n",
       "       [25, 43, 32, 54, 42]])"
      ]
     },
     "execution_count": 289,
     "metadata": {},
     "output_type": "execute_result"
    }
   ],
   "source": [
    "# reshaping the array into 4 * 5\n",
    "d5[d5>10].reshape(4,-1)"
   ]
  },
  {
   "cell_type": "markdown",
   "id": "9a64ce47",
   "metadata": {},
   "source": [
    "# Arithmetic Operations on Array\n",
    "\n",
    "Arithmentic operations will take place on each individual elements of array at the particualar index"
   ]
  },
  {
   "cell_type": "code",
   "execution_count": 294,
   "id": "65d52456",
   "metadata": {},
   "outputs": [
    {
     "data": {
      "text/plain": [
       "array([[5, 5, 5],\n",
       "       [5, 4, 3],\n",
       "       [3, 3, 2]])"
      ]
     },
     "execution_count": 294,
     "metadata": {},
     "output_type": "execute_result"
    }
   ],
   "source": [
    "d9 = np.random.randint(2,6,(3,3))\n",
    "d9"
   ]
  },
  {
   "cell_type": "code",
   "execution_count": 295,
   "id": "6c5b0e06",
   "metadata": {},
   "outputs": [
    {
     "data": {
      "text/plain": [
       "array([[7, 5, 7],\n",
       "       [7, 8, 8],\n",
       "       [6, 5, 6]])"
      ]
     },
     "execution_count": 295,
     "metadata": {},
     "output_type": "execute_result"
    }
   ],
   "source": [
    "d10 = np.random.randint(5,9,(3,3))\n",
    "d10"
   ]
  },
  {
   "cell_type": "code",
   "execution_count": 296,
   "id": "f530abbc",
   "metadata": {},
   "outputs": [
    {
     "data": {
      "text/plain": [
       "array([[35, 25, 35],\n",
       "       [35, 32, 24],\n",
       "       [18, 15, 12]])"
      ]
     },
     "execution_count": 296,
     "metadata": {},
     "output_type": "execute_result"
    }
   ],
   "source": [
    "# \n",
    "d9*d10"
   ]
  },
  {
   "cell_type": "code",
   "execution_count": 297,
   "id": "0fadb43d",
   "metadata": {},
   "outputs": [
    {
     "data": {
      "text/plain": [
       "array([[12, 10, 12],\n",
       "       [12, 12, 11],\n",
       "       [ 9,  8,  8]])"
      ]
     },
     "execution_count": 297,
     "metadata": {},
     "output_type": "execute_result"
    }
   ],
   "source": [
    "d9+d10"
   ]
  },
  {
   "cell_type": "code",
   "execution_count": 298,
   "id": "fd0e43fd",
   "metadata": {},
   "outputs": [
    {
     "data": {
      "text/plain": [
       "array([[-2,  0, -2],\n",
       "       [-2, -4, -5],\n",
       "       [-3, -2, -4]])"
      ]
     },
     "execution_count": 298,
     "metadata": {},
     "output_type": "execute_result"
    }
   ],
   "source": [
    "d9-d10"
   ]
  },
  {
   "cell_type": "code",
   "execution_count": 299,
   "id": "d60a1861",
   "metadata": {},
   "outputs": [
    {
     "data": {
      "text/plain": [
       "array([[0.71428571, 1.        , 0.71428571],\n",
       "       [0.71428571, 0.5       , 0.375     ],\n",
       "       [0.5       , 0.6       , 0.33333333]])"
      ]
     },
     "execution_count": 299,
     "metadata": {},
     "output_type": "execute_result"
    }
   ],
   "source": [
    "d9/d10"
   ]
  },
  {
   "cell_type": "code",
   "execution_count": 300,
   "id": "fb317a8b",
   "metadata": {},
   "outputs": [
    {
     "data": {
      "text/plain": [
       "array([[5, 0, 5],\n",
       "       [5, 4, 3],\n",
       "       [3, 3, 2]], dtype=int32)"
      ]
     },
     "execution_count": 300,
     "metadata": {},
     "output_type": "execute_result"
    }
   ],
   "source": [
    "d9%d10"
   ]
  },
  {
   "cell_type": "code",
   "execution_count": 301,
   "id": "0490ed97",
   "metadata": {},
   "outputs": [
    {
     "data": {
      "text/plain": [
       "array([[78125,  3125, 78125],\n",
       "       [78125, 65536,  6561],\n",
       "       [  729,   243,    64]], dtype=int32)"
      ]
     },
     "execution_count": 301,
     "metadata": {},
     "output_type": "execute_result"
    }
   ],
   "source": [
    "d9**d10"
   ]
  },
  {
   "cell_type": "code",
   "execution_count": 314,
   "id": "e6df910a",
   "metadata": {},
   "outputs": [
    {
     "data": {
      "text/plain": [
       "array([[100,  90, 105],\n",
       "       [ 81,  72,  85],\n",
       "       [ 54,  49,  57]])"
      ]
     },
     "execution_count": 314,
     "metadata": {},
     "output_type": "execute_result"
    }
   ],
   "source": [
    "# this is real matrix multiplication\n",
    "\n",
    "#[5*7 + 5*7 + 5*6 = 100]\n",
    "#[5*5+5*8+ 5*5 = 90 and so on\n",
    "\n",
    "d9@d10 "
   ]
  },
  {
   "cell_type": "code",
   "execution_count": 309,
   "id": "30757789",
   "metadata": {},
   "outputs": [],
   "source": [
    "# If array dimensions are different then no arithmetic operations are feasible"
   ]
  },
  {
   "cell_type": "code",
   "execution_count": 303,
   "id": "3ee5ef95",
   "metadata": {},
   "outputs": [
    {
     "data": {
      "text/plain": [
       "array([[5, 5],\n",
       "       [2, 5],\n",
       "       [4, 4]])"
      ]
     },
     "execution_count": 303,
     "metadata": {},
     "output_type": "execute_result"
    }
   ],
   "source": [
    "# 3*2 array\n",
    "d11 = np.random.randint(2,6,(3,2))\n",
    "d11"
   ]
  },
  {
   "cell_type": "code",
   "execution_count": 310,
   "id": "3c5a66cb",
   "metadata": {},
   "outputs": [
    {
     "data": {
      "text/plain": [
       "array([[ 7,  8,  5],\n",
       "       [10, 10,  8],\n",
       "       [10,  7,  6]])"
      ]
     },
     "execution_count": 310,
     "metadata": {},
     "output_type": "execute_result"
    }
   ],
   "source": [
    "# 3*3 array\n",
    "\n",
    "d12 = np.random.randint(5,13,(3,3))\n",
    "d12"
   ]
  },
  {
   "cell_type": "code",
   "execution_count": 312,
   "id": "9ad556ea",
   "metadata": {},
   "outputs": [
    {
     "ename": "ValueError",
     "evalue": "operands could not be broadcast together with shapes (3,2) (3,3) ",
     "output_type": "error",
     "traceback": [
      "\u001b[1;31m---------------------------------------------------------------------------\u001b[0m",
      "\u001b[1;31mValueError\u001b[0m                                Traceback (most recent call last)",
      "\u001b[1;32m~\\AppData\\Local\\Temp/ipykernel_38624/2587418345.py\u001b[0m in \u001b[0;36m<module>\u001b[1;34m\u001b[0m\n\u001b[1;32m----> 1\u001b[1;33m \u001b[0md11\u001b[0m \u001b[1;33m*\u001b[0m \u001b[0md12\u001b[0m\u001b[1;33m\u001b[0m\u001b[1;33m\u001b[0m\u001b[0m\n\u001b[0m",
      "\u001b[1;31mValueError\u001b[0m: operands could not be broadcast together with shapes (3,2) (3,3) "
     ]
    }
   ],
   "source": [
    "d11 * d12"
   ]
  },
  {
   "cell_type": "code",
   "execution_count": 365,
   "id": "87989cac",
   "metadata": {},
   "outputs": [
    {
     "data": {
      "text/plain": [
       "array([[2.23606798, 2.23606798, 2.23606798],\n",
       "       [2.23606798, 2.        , 1.73205081],\n",
       "       [1.73205081, 1.73205081, 1.41421356]])"
      ]
     },
     "execution_count": 365,
     "metadata": {},
     "output_type": "execute_result"
    }
   ],
   "source": [
    "#square root operations\n",
    "\n",
    "np.sqrt(d9)"
   ]
  },
  {
   "cell_type": "code",
   "execution_count": 369,
   "id": "4f66831e",
   "metadata": {},
   "outputs": [
    {
     "data": {
      "text/plain": [
       "array([[148.4131591 , 148.4131591 , 148.4131591 ],\n",
       "       [148.4131591 ,  54.59815003,  20.08553692],\n",
       "       [ 20.08553692,  20.08553692,   7.3890561 ]])"
      ]
     },
     "execution_count": 369,
     "metadata": {},
     "output_type": "execute_result"
    }
   ],
   "source": [
    "#exponent of array\n",
    "\n",
    "np.exp(d9)"
   ]
  },
  {
   "cell_type": "code",
   "execution_count": 368,
   "id": "6a15ce3e",
   "metadata": {},
   "outputs": [
    {
     "data": {
      "text/plain": [
       "array([[0.69897   , 0.69897   , 0.69897   ],\n",
       "       [0.69897   , 0.60205999, 0.47712125],\n",
       "       [0.47712125, 0.47712125, 0.30103   ]])"
      ]
     },
     "execution_count": 368,
     "metadata": {},
     "output_type": "execute_result"
    }
   ],
   "source": [
    "#Log10 of d9\n",
    "\n",
    "np.log10(d9)"
   ]
  },
  {
   "cell_type": "markdown",
   "id": "042991bf",
   "metadata": {},
   "source": [
    "# Broadcasting"
   ]
  },
  {
   "cell_type": "code",
   "execution_count": 322,
   "id": "18a33d12",
   "metadata": {},
   "outputs": [
    {
     "data": {
      "text/plain": [
       "array([[1., 1., 1., 1.],\n",
       "       [1., 1., 1., 1.],\n",
       "       [1., 1., 1., 1.]])"
      ]
     },
     "execution_count": 322,
     "metadata": {},
     "output_type": "execute_result"
    }
   ],
   "source": [
    "d13 = np.ones((3,4))\n",
    "d13"
   ]
  },
  {
   "cell_type": "code",
   "execution_count": 324,
   "id": "f940c385",
   "metadata": {},
   "outputs": [
    {
     "data": {
      "text/plain": [
       "array([4, 5, 6, 7])"
      ]
     },
     "execution_count": 324,
     "metadata": {},
     "output_type": "execute_result"
    }
   ],
   "source": [
    "d14 = np.array([4,5,6,7])\n",
    "d14"
   ]
  },
  {
   "cell_type": "code",
   "execution_count": 344,
   "id": "0f3d8771",
   "metadata": {},
   "outputs": [
    {
     "data": {
      "text/plain": [
       "array([[5., 6., 7., 8.],\n",
       "       [5., 6., 7., 8.],\n",
       "       [5., 6., 7., 8.]])"
      ]
     },
     "execution_count": 344,
     "metadata": {},
     "output_type": "execute_result"
    }
   ],
   "source": [
    "# Row wise Broadcasting\n",
    "\n",
    "# it will broadcast or sum up the element of d14 with d13\n",
    "d13+d14"
   ]
  },
  {
   "cell_type": "code",
   "execution_count": 329,
   "id": "20769df9",
   "metadata": {},
   "outputs": [
    {
     "data": {
      "text/plain": [
       "array([ 8,  9, 10, 11, 13])"
      ]
     },
     "execution_count": 329,
     "metadata": {},
     "output_type": "execute_result"
    }
   ],
   "source": [
    "d15 = np.array([8,9,10,11,13])\n",
    "d15"
   ]
  },
  {
   "cell_type": "code",
   "execution_count": 331,
   "id": "42c2d693",
   "metadata": {},
   "outputs": [
    {
     "ename": "ValueError",
     "evalue": "operands could not be broadcast together with shapes (3,4) (5,) ",
     "output_type": "error",
     "traceback": [
      "\u001b[1;31m---------------------------------------------------------------------------\u001b[0m",
      "\u001b[1;31mValueError\u001b[0m                                Traceback (most recent call last)",
      "\u001b[1;32m~\\AppData\\Local\\Temp/ipykernel_38624/3803464496.py\u001b[0m in \u001b[0;36m<module>\u001b[1;34m\u001b[0m\n\u001b[0;32m      1\u001b[0m \u001b[1;31m#since dimension of d15 is greater than d13, addition operation will not work\u001b[0m\u001b[1;33m\u001b[0m\u001b[1;33m\u001b[0m\u001b[0m\n\u001b[1;32m----> 2\u001b[1;33m \u001b[0md13\u001b[0m \u001b[1;33m+\u001b[0m \u001b[0md15\u001b[0m\u001b[1;33m\u001b[0m\u001b[1;33m\u001b[0m\u001b[0m\n\u001b[0m",
      "\u001b[1;31mValueError\u001b[0m: operands could not be broadcast together with shapes (3,4) (5,) "
     ]
    }
   ],
   "source": [
    "#since dimension of d15 is greater than d13, addition operation will not work\n",
    "d13 + d15"
   ]
  },
  {
   "cell_type": "code",
   "execution_count": 342,
   "id": "3d4b8f71",
   "metadata": {},
   "outputs": [
    {
     "data": {
      "text/plain": [
       "array([[45],\n",
       "       [77],\n",
       "       [ 4]])"
      ]
     },
     "execution_count": 342,
     "metadata": {},
     "output_type": "execute_result"
    }
   ],
   "source": [
    "d16 = np.random.randint(4,99,(3,1))\n",
    "d16"
   ]
  },
  {
   "cell_type": "code",
   "execution_count": 345,
   "id": "efdc7612",
   "metadata": {},
   "outputs": [
    {
     "data": {
      "text/plain": [
       "array([[46., 46., 46., 46.],\n",
       "       [78., 78., 78., 78.],\n",
       "       [ 5.,  5.,  5.,  5.]])"
      ]
     },
     "execution_count": 345,
     "metadata": {},
     "output_type": "execute_result"
    }
   ],
   "source": [
    "# column wise broadcasting\n",
    "\n",
    "d13+d16"
   ]
  },
  {
   "cell_type": "code",
   "execution_count": 350,
   "id": "77ab8dc7",
   "metadata": {},
   "outputs": [
    {
     "data": {
      "text/plain": [
       "array([[ 3],\n",
       "       [11],\n",
       "       [12]])"
      ]
     },
     "execution_count": 350,
     "metadata": {},
     "output_type": "execute_result"
    }
   ],
   "source": [
    "d17= np.array([3,11,12]).reshape(3,1)\n",
    "d17"
   ]
  },
  {
   "cell_type": "code",
   "execution_count": 352,
   "id": "7ffe46d5",
   "metadata": {},
   "outputs": [
    {
     "data": {
      "text/plain": [
       "array([[ 4.,  4.,  4.,  4.],\n",
       "       [12., 12., 12., 12.],\n",
       "       [13., 13., 13., 13.]])"
      ]
     },
     "execution_count": 352,
     "metadata": {},
     "output_type": "execute_result"
    }
   ],
   "source": [
    "# column wise broadcasting\n",
    "\n",
    "d13+d17"
   ]
  },
  {
   "cell_type": "code",
   "execution_count": 357,
   "id": "18315bfd",
   "metadata": {},
   "outputs": [
    {
     "data": {
      "text/plain": [
       "array([[ 3, 11, 12]])"
      ]
     },
     "execution_count": 357,
     "metadata": {},
     "output_type": "execute_result"
    }
   ],
   "source": [
    "d18 = np.array([[3,11,12]])\n",
    "d18"
   ]
  },
  {
   "cell_type": "code",
   "execution_count": 358,
   "id": "55889874",
   "metadata": {},
   "outputs": [
    {
     "data": {
      "text/plain": [
       "array([[ 3],\n",
       "       [11],\n",
       "       [12]])"
      ]
     },
     "execution_count": 358,
     "metadata": {},
     "output_type": "execute_result"
    }
   ],
   "source": [
    "#It will transpose the 2 dimension array\n",
    "d18.T\n"
   ]
  },
  {
   "cell_type": "code",
   "execution_count": 362,
   "id": "382359f4",
   "metadata": {},
   "outputs": [
    {
     "data": {
      "text/plain": [
       "array([[ 4.,  4.,  4.,  4.],\n",
       "       [12., 12., 12., 12.],\n",
       "       [13., 13., 13., 13.]])"
      ]
     },
     "execution_count": 362,
     "metadata": {},
     "output_type": "execute_result"
    }
   ],
   "source": [
    "# column wise broadcasting using Transpose operations\n",
    "\n",
    "d13 +d18.T"
   ]
  },
  {
   "cell_type": "code",
   "execution_count": 363,
   "id": "811793bc",
   "metadata": {},
   "outputs": [
    {
     "data": {
      "text/plain": [
       "array([[1., 1., 1., 1.],\n",
       "       [1., 1., 1., 1.],\n",
       "       [1., 1., 1., 1.]])"
      ]
     },
     "execution_count": 363,
     "metadata": {},
     "output_type": "execute_result"
    }
   ],
   "source": [
    "d13"
   ]
  },
  {
   "cell_type": "code",
   "execution_count": null,
   "id": "1c551b4d",
   "metadata": {},
   "outputs": [],
   "source": []
  }
 ],
 "metadata": {
  "kernelspec": {
   "display_name": "Python 3 (ipykernel)",
   "language": "python",
   "name": "python3"
  },
  "language_info": {
   "codemirror_mode": {
    "name": "ipython",
    "version": 3
   },
   "file_extension": ".py",
   "mimetype": "text/x-python",
   "name": "python",
   "nbconvert_exporter": "python",
   "pygments_lexer": "ipython3",
   "version": "3.9.7"
  }
 },
 "nbformat": 4,
 "nbformat_minor": 5
}
